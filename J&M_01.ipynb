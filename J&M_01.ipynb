{
 "cells": [
  {
   "cell_type": "markdown",
   "metadata": {},
   "source": [
    "# Regex"
   ]
  },
  {
   "cell_type": "code",
   "execution_count": 1,
   "metadata": {
    "collapsed": true
   },
   "outputs": [],
   "source": [
    "import re"
   ]
  },
  {
   "cell_type": "code",
   "execution_count": 17,
   "metadata": {
    "collapsed": false
   },
   "outputs": [
    {
     "name": "stdout",
     "output_type": "stream",
     "text": [
      "1found!\n",
      "3found!\n",
      "4found!\n"
     ]
    }
   ],
   "source": [
    "# MATCH & SEARCH\n",
    "sent = '''sent1\n",
    "sent2\n",
    "sent3'''\n",
    "if re.match(r'sent1',sent): print \"1found!\"\n",
    "if re.match(r'sent2',sent): print \"2found!\"\n",
    "if re.search(r'sent1',sent): print \"3found!\"\n",
    "if re.search(r'sent2',sent): print \"4found!\""
   ]
  },
  {
   "cell_type": "code",
   "execution_count": 18,
   "metadata": {
    "collapsed": false
   },
   "outputs": [
    {
     "data": {
      "text/plain": [
       "['sent', 'sent', 'sent']"
      ]
     },
     "execution_count": 18,
     "metadata": {},
     "output_type": "execute_result"
    }
   ],
   "source": [
    "# FINDALL\n",
    "re.findall(r'sent',sent)"
   ]
  },
  {
   "cell_type": "code",
   "execution_count": 24,
   "metadata": {
    "collapsed": false
   },
   "outputs": [
    {
     "data": {
      "text/plain": [
       "'sent'"
      ]
     },
     "execution_count": 24,
     "metadata": {},
     "output_type": "execute_result"
    }
   ],
   "source": [
    "# GROUP\n",
    "re.search(r'sent',sent).group()"
   ]
  },
  {
   "cell_type": "code",
   "execution_count": 30,
   "metadata": {
    "collapsed": false
   },
   "outputs": [
    {
     "name": "stdout",
     "output_type": "stream",
     "text": [
      "6\n",
      "11\n",
      "(6, 11)\n"
     ]
    }
   ],
   "source": [
    "# START, END & SPAN\n",
    "print re.search(r'sent2',sent).start()\n",
    "print re.search(r'sent2',sent).end()\n",
    "print re.search(r'sent2',sent).span()"
   ]
  },
  {
   "cell_type": "markdown",
   "metadata": {},
   "source": [
    "# FSA\n",
    "\n",
    "* **LIBRARY LINK**: https://github.com/tyarkoni/transitions"
   ]
  },
  {
   "cell_type": "code",
   "execution_count": null,
   "metadata": {
    "collapsed": true
   },
   "outputs": [],
   "source": [
    "# SHEEP TALK"
   ]
  },
  {
   "cell_type": "code",
   "execution_count": 39,
   "metadata": {
    "collapsed": true
   },
   "outputs": [],
   "source": [
    "# a. FSA\n",
    "#\n",
    "# q0 --b--> q1 --a--> q2 --a--> q3 --!--> |q4|\n",
    "#                                |_a_| \n",
    "\n",
    "def sheep_talk_fsa(string):\n",
    "    transitions = {(0,'b'):1,(1,'a'):2,(2,'a'):3,(3,'a'):3,(3,'!'):4} \n",
    "    q = 0\n",
    "    for ch in string:\n",
    "        try: q = transitions[(q,ch)]\n",
    "        except:\n",
    "            return False\n",
    "    return True"
   ]
  },
  {
   "cell_type": "code",
   "execution_count": 40,
   "metadata": {
    "collapsed": false
   },
   "outputs": [
    {
     "name": "stdout",
     "output_type": "stream",
     "text": [
      "True\n",
      "False\n",
      "False\n"
     ]
    }
   ],
   "source": [
    "s1 = 'baaaa!'\n",
    "s2 = 'aba!'\n",
    "s3 = 'ba!'\n",
    "print sheep_talk_fsa(s1)\n",
    "print sheep_talk_fsa(s2)\n",
    "print sheep_talk_fsa(s3)"
   ]
  },
  {
   "cell_type": "code",
   "execution_count": 169,
   "metadata": {
    "collapsed": false
   },
   "outputs": [],
   "source": [
    "# b. NFSA\n",
    "# \n",
    "# q0 --b--> q1 --a--> q2 --a--> q3 --!--> |q4|\n",
    "#                      |_a_| \n",
    "\n",
    "def sheep_talk_nfsa(q, transitions, string, end_state_idx):\n",
    "    if q==end_state_idx and string=='': return True\n",
    "    if (q,string[0]) in transitions.keys():  \n",
    "        if len(transitions[(q,string[0])])==1: \n",
    "            q = transitions[(q,string[0])][0]\n",
    "            return sheep_talk_nfsa(q, transitions, string[1:], end_state_idx)\n",
    "        next_q = transitions[(q,string[0])][1]\n",
    "        q = transitions[(q,string[0])][0]\n",
    "        return (sheep_talk_nfsa(q, transitions, string[1:], end_state_idx) or \\\n",
    "                sheep_talk_nfsa(next_q, transitions, string[1:], end_state_idx)) \n",
    "    else: return False"
   ]
  },
  {
   "cell_type": "code",
   "execution_count": 170,
   "metadata": {
    "collapsed": false
   },
   "outputs": [
    {
     "name": "stdout",
     "output_type": "stream",
     "text": [
      "True\n",
      "False\n",
      "False\n"
     ]
    }
   ],
   "source": [
    "s1 = 'baaaa!'\n",
    "s2 = 'aba!'\n",
    "s3 = 'ba!'\n",
    "transitions = {(0,'b'):[1],(1,'a'):[2],(2,'a'):[2,3],(3,'!'):[4]} \n",
    "print sheep_talk_nfsa(0, transitions, s1, 4)\n",
    "print sheep_talk_nfsa(0, transitions, s2, 4)\n",
    "print sheep_talk_nfsa(0, transitions, s3, 4)"
   ]
  },
  {
   "cell_type": "markdown",
   "metadata": {},
   "source": [
    "# FST"
   ]
  },
  {
   "cell_type": "code",
   "execution_count": 229,
   "metadata": {
    "collapsed": true
   },
   "outputs": [],
   "source": [
    "from collections import OrderedDict"
   ]
  },
  {
   "cell_type": "code",
   "execution_count": 366,
   "metadata": {
    "collapsed": false
   },
   "outputs": [],
   "source": [
    "class FST:\n",
    "    \n",
    "    def __init__(self, transitions):\n",
    "        self.transitions = transitions\n",
    "    \n",
    "    def transduce(self, string): # can either be a string or a list of chars.\n",
    "        q = 0\n",
    "        outputs = []\n",
    "        cur_output = []\n",
    "        for ch in string:\n",
    "            if (q,ch) in self.transitions.keys():\n",
    "                cur_output.append(self.transitions[(q,ch)]['out'])\n",
    "                if self.transitions[(q,ch)]['is_final']:\n",
    "                    if ch==string[-1] and cur_output not in outputs: \n",
    "                        outputs.append(cur_output)\n",
    "                    else: continue\n",
    "                else:\n",
    "                    q = self.transitions[(q,ch)]['next_state']         \n",
    "            else:\n",
    "                print \"ERROR: STRING NOT IN CURRENT FST\"\n",
    "                return\n",
    "        outputs = [[ch for ch in output if ch!=''] for output in outputs]\n",
    "            # a raw output in outputs has '', the trace of empty transition\n",
    "            # e.g. ['f', 'o', 'x', '', '^s#', '']\n",
    "            # stripping these, we have e.g. ['f', 'o', 'x', '^s#'] as final output.\n",
    "        return outputs\n",
    "        \n",
    "    def inverse(self):\n",
    "        new_transitions = {(q,self.transitions[(q,ch)]['out']):{'out':ch,\n",
    "                                                                 'next_state':self.transitions[(q,ch)]['next_state'],\n",
    "                                                                 'is_final':self.transitions[(q,ch)]['is_final']} \n",
    "                            for (q,ch) in self.transitions.iterkeys()}\n",
    "        return new_transitions\n",
    "    \n",
    "    def compose(self, other_transitions):\n",
    "        if not all(q_a==q_b and self.transitions[(q_a),ch_a]['out']==ch_b\\\n",
    "                   for (q_a,ch_a),(q_b,ch_b) \\\n",
    "                   in zip(self.transitions,other_transitions)):\n",
    "            print \"INCOMPATIBLE TRANSITIONS-PAIR\"\n",
    "            return\n",
    "        new_transitions = self.transitions\n",
    "        for (q_a,ch_a),(q_b,ch_b) in zip(self.transitions,other_transitions):\n",
    "            new_transitions[(q_a,ch_a)]['out'] = other_transitions[(q_b,ch_b)]['out']\n",
    "        return new_transitions\n"
   ]
  },
  {
   "cell_type": "code",
   "execution_count": 304,
   "metadata": {
    "collapsed": false
   },
   "outputs": [],
   "source": [
    "transitions_1 = OrderedDict()\n",
    "transitions_1[(0,'a')] = {'out':'b','next_state':1,'is_final':False}\n",
    "transitions_1[(1,'a')] = {'out':'b','next_state':1,'is_final':True}\n",
    "\n",
    "transitions_2 = OrderedDict()\n",
    "transitions_2[(0,'b')] = {'out':'c','next_state':1,'is_final':False}\n",
    "transitions_2[(1,'b')] = {'out':'c','next_state':1,'is_final':True}"
   ]
  },
  {
   "cell_type": "code",
   "execution_count": 305,
   "metadata": {
    "collapsed": false
   },
   "outputs": [],
   "source": [
    "fst = FST(transitions_1)"
   ]
  },
  {
   "cell_type": "code",
   "execution_count": 306,
   "metadata": {
    "collapsed": false
   },
   "outputs": [
    {
     "data": {
      "text/plain": [
       "[['b', 'b', 'b', 'b', 'b', 'b', 'b', 'b']]"
      ]
     },
     "execution_count": 306,
     "metadata": {},
     "output_type": "execute_result"
    }
   ],
   "source": [
    "fst.transduce('aaaaaaaa')"
   ]
  },
  {
   "cell_type": "code",
   "execution_count": 307,
   "metadata": {
    "collapsed": false
   },
   "outputs": [
    {
     "data": {
      "text/plain": [
       "{(0, 'b'): {'is_final': False, 'next_state': 1, 'out': 'a'},\n",
       " (1, 'b'): {'is_final': True, 'next_state': 1, 'out': 'a'}}"
      ]
     },
     "execution_count": 307,
     "metadata": {},
     "output_type": "execute_result"
    }
   ],
   "source": [
    "fst.inverse()"
   ]
  },
  {
   "cell_type": "code",
   "execution_count": 308,
   "metadata": {
    "collapsed": false
   },
   "outputs": [
    {
     "data": {
      "text/plain": [
       "[['a', 'a', 'a', 'a', 'a']]"
      ]
     },
     "execution_count": 308,
     "metadata": {},
     "output_type": "execute_result"
    }
   ],
   "source": [
    "fst.transitions = fst.inverse()\n",
    "fst.transduce('bbbbb')"
   ]
  },
  {
   "cell_type": "code",
   "execution_count": 309,
   "metadata": {
    "collapsed": false
   },
   "outputs": [
    {
     "data": {
      "text/plain": [
       "OrderedDict([((0, 'a'), {'is_final': False, 'next_state': 1, 'out': 'b'}),\n",
       "             ((1, 'a'), {'is_final': True, 'next_state': 1, 'out': 'b'})])"
      ]
     },
     "execution_count": 309,
     "metadata": {},
     "output_type": "execute_result"
    }
   ],
   "source": [
    "fst = FST(transitions_1)\n",
    "fst.transitions"
   ]
  },
  {
   "cell_type": "code",
   "execution_count": 310,
   "metadata": {
    "collapsed": false
   },
   "outputs": [
    {
     "data": {
      "text/plain": [
       "OrderedDict([((0, 'a'), {'is_final': False, 'next_state': 1, 'out': 'c'}),\n",
       "             ((1, 'a'), {'is_final': True, 'next_state': 1, 'out': 'c'})])"
      ]
     },
     "execution_count": 310,
     "metadata": {},
     "output_type": "execute_result"
    }
   ],
   "source": [
    "fst.compose(transitions_2)"
   ]
  },
  {
   "cell_type": "code",
   "execution_count": 381,
   "metadata": {
    "collapsed": false
   },
   "outputs": [],
   "source": [
    "morph_transitions_1 = {(0,'f'):{'out':'f', 'next_state':1, 'is_final':False},\n",
    "                       (1,'o'):{'out':'o', 'next_state':2, 'is_final':False},\n",
    "                       (2,'x'):{'out':'x', 'next_state':3, 'is_final':False},\n",
    "                       (3,'N'):{'out':'', 'next_state':4, 'is_final':False},\n",
    "                       (4,'PL'):{'out':'^s#', 'next_state':5, 'is_final':False},\n",
    "                       (4,'SG'):{'out':'#', 'next_state':5, 'is_final':False},\n",
    "                       (5,''):{'out':'', 'next_state':None, 'is_final':True},\n",
    "                       (0,'g'):{'out':'g', 'next_state':6, 'is_final':False},\n",
    "                       (6,'o'):{'out':'o', 'next_state':7, 'is_final':False},\n",
    "                       (7,'o'):{'out':'o', 'next_state':8, 'is_final':False},\n",
    "                       (8,'s'):{'out':'s', 'next_state':9, 'is_final':False},\n",
    "                       (9,'e'):{'out':'e', 'next_state':10, 'is_final':False},\n",
    "                       (10,'N'):{'out':'', 'next_state':11, 'is_final':False},\n",
    "                       (11,'SG'):{'out':'#', 'next_state':5, 'is_final':False}}\n",
    "morph_transitions_2 = {(0,'g'):{'out':'g', 'next_state':1, 'is_final':False},\n",
    "                       (1,'o'):{'out':'e', 'next_state':2, 'is_final':False},\n",
    "                       (2,'o'):{'out':'e', 'next_state':3, 'is_final':False},\n",
    "                       (3,'s'):{'out':'s', 'next_state':4, 'is_final':False},\n",
    "                       (4,'e'):{'out':'e', 'next_state':5, 'is_final':False},\n",
    "                       (5,'N'):{'out':'', 'next_state':6, 'is_final':False},\n",
    "                       (6,'PL'):{'out':'#', 'next_state':7, 'is_final':False},\n",
    "                       (7,''):{'out':'', 'next_state':None, 'is_final':True}}\n",
    "    # the original (cf. Fig 3.14) introduces nondeterministicity, \n",
    "    #  therefore here 'goose' and 'geese' are separately parsed."
   ]
  },
  {
   "cell_type": "code",
   "execution_count": 382,
   "metadata": {
    "collapsed": false
   },
   "outputs": [
    {
     "name": "stdout",
     "output_type": "stream",
     "text": [
      "[['f', 'o', 'x', '^s#']]\n",
      "[['f', 'o', 'x', '#']]\n",
      "[['g', 'o', 'o', 's', 'e', '#']]\n"
     ]
    }
   ],
   "source": [
    "fst = FST(morph_transitions_1)\n",
    "print fst.transduce(['f','o','x','N','PL',''])\n",
    "print fst.transduce(['f','o','x','N','SG',''])\n",
    "print fst.transduce(['g','o','o','s','e','N','SG',''])"
   ]
  },
  {
   "cell_type": "code",
   "execution_count": 383,
   "metadata": {
    "collapsed": false
   },
   "outputs": [
    {
     "name": "stdout",
     "output_type": "stream",
     "text": [
      "[['g', 'e', 'e', 's', 'e', '#']]\n"
     ]
    }
   ],
   "source": [
    "fst = FST(morph_transitions_2)\n",
    "print fst.transduce(['g','o','o','s','e','N','PL',''])"
   ]
  },
  {
   "cell_type": "markdown",
   "metadata": {},
   "source": [
    "# Edit Distance"
   ]
  },
  {
   "cell_type": "code",
   "execution_count": 402,
   "metadata": {
    "collapsed": true
   },
   "outputs": [],
   "source": [
    "import numpy as np\n",
    "from itertools import product"
   ]
  },
  {
   "cell_type": "code",
   "execution_count": 425,
   "metadata": {
    "collapsed": false
   },
   "outputs": [
    {
     "name": "stdout",
     "output_type": "stream",
     "text": [
      "CPU times: user 2min 37s, sys: 22.3 s, total: 3min\n",
      "Wall time: 3min\n"
     ]
    }
   ],
   "source": [
    "%%time\n",
    "from nltk.corpus import inaugural, stopwords \n",
    "import random, string\n",
    "words = list({w.lower() for w in inaugural.words() if w not in stopwords.words() and \\\n",
    "                                                      w not in string.punctuation})"
   ]
  },
  {
   "cell_type": "code",
   "execution_count": 434,
   "metadata": {
    "collapsed": true
   },
   "outputs": [],
   "source": [
    "class Levenshtein:\n",
    "    \n",
    "    def __init__(self, vocab, # vocab: a list of words.\n",
    "                       costs={'ins':1,'del':1,'sub':lambda ch_a,ch_b: 0 if ch_a==ch_b else 2}):\n",
    "        self.vocab = vocab\n",
    "        self.costs = costs\n",
    "        self.edit_dist_matrices = {}\n",
    "        for w_a,w_b in product(vocab,vocab):\n",
    "            if (w_b,w_a) in self.edit_dist_matrices.keys():\n",
    "                self.edit_dist_matrices[(w_a,w_b)] = self.edit_dist_matrices[(w_b,w_a)]\n",
    "            else:\n",
    "                self.__edit_distance_matrix(w_a,w_b)\n",
    "    \n",
    "    def __edit_distance_matrix(self, w_a, w_b): # source: w_a, target: w_b.\n",
    "        edit_dist_matrix = np.zeros((len(w_a)+1,len(w_b)+1))\n",
    "        nrows, ncols = edit_dist_matrix.shape\n",
    "        for i in xrange(1,nrows):\n",
    "            edit_dist_matrix[i][0] = edit_dist_matrix[i-1][0] + self.costs['del']\n",
    "                # each row (i.e. 1:) in source string corresponds to empty slot (i.e.'#') in target string at 0.\n",
    "                #  therefore we compute deletion cost.\n",
    "        for j in xrange(1,ncols):\n",
    "            edit_dist_matrix[0][j] = edit_dist_matrix[0][j-1] + self.costs['ins']\n",
    "                # each col (i.e. 1:) in target string corresponds to empty slot (i.e.'#') in source string at 0.\n",
    "                #  therefore we compute insertion cost.\n",
    "        for i,j in product(xrange(1,nrows),xrange(1,ncols)):\n",
    "            edit_dist_matrix[i][j] = min((edit_dist_matrix[i-1][j] + self.costs['del']), # i.e. delete source char.\n",
    "                                         (edit_dist_matrix[i][j-1] + self.costs['ins']), # i.e. insert target char.\n",
    "                                         (edit_dist_matrix[i-1][j-1] + \\\n",
    "                                              self.costs['sub'](w_a[i-1],w_b[j-1]))) \n",
    "        self.edit_dist_matrices[(w_a,w_b)] = edit_dist_matrix\n",
    "        \n",
    "    def edit_distance(self, w_a, w_b):\n",
    "        return self.edit_dist_matrices[(w_a,w_b)][len(w_a)][len(w_b)]\n",
    "    \n",
    "# TIME COMPLEXITY: O(choose(len(vocab),2)*(len(w_i)*len(w_j)))"
   ]
  },
  {
   "cell_type": "code",
   "execution_count": 435,
   "metadata": {
    "collapsed": false
   },
   "outputs": [
    {
     "name": "stdout",
     "output_type": "stream",
     "text": [
      "CPU times: user 3.23 s, sys: 29.5 ms, total: 3.26 s\n",
      "Wall time: 3.27 s\n"
     ]
    }
   ],
   "source": [
    "%%time\n",
    "lv = Levenshtein(random.sample(words,100))"
   ]
  },
  {
   "cell_type": "code",
   "execution_count": 436,
   "metadata": {
    "collapsed": false
   },
   "outputs": [
    {
     "name": "stdout",
     "output_type": "stream",
     "text": [
      "[u'broadly', u'unpatriotic', u'covet', u'applauded', u'outpaced', u'deepen', u'coal', u'lessening', u'deal', u'atrocious', u'creator', u'intelligent', u'mountaineer', u'birthday', u'pages', u'arrived', u'intrust', u'now', u'insignificance', u'inflated', u'mormon', u'speech', u'resemble', u'successes', u'reconstruction', u'occupants', u'manner', u'strengthening', u'stop', u'sitting', u'flattery', u'island', u'despite', u'move', u'unitedly', u'original', u'equaled', u'positively', u'urgently', u'experiencing', u'heads', u'consequently', u'embarrassments', u'humiliations', u'play', u'panoply', u'executions', u'quarters', u'interfere', u'entrepreneurs', u'leaving', u'senate', u'thing', u'idle', u'unkept', u'british', u'conclusions', u'confidence', u'diminishes', u'love', u'owes', u'operated', u'patriotic', u'stayed', u'power', u'replete', u'trusting', u'debased', u'noted', u'plain', u'terrific', u'aliment', u'excision', u'connive', u'universally', u'balanced', u'abstract', u'waketh', u'planning', u'appalling', u'consolation', u'afraid', u'fortunately', u'duty', u'counting', u'inculcate', u'miss', u'heartless', u'employed', u'rejecting', u'halls', u'executed', u'conferences', u'speed', u'unflinching', u'therein', u'seem', u'section', u'woodsmen', u'touch']\n"
     ]
    }
   ],
   "source": [
    "print lv.vocab"
   ]
  },
  {
   "cell_type": "code",
   "execution_count": 437,
   "metadata": {
    "collapsed": false
   },
   "outputs": [
    {
     "data": {
      "text/plain": [
       "4.0"
      ]
     },
     "execution_count": 437,
     "metadata": {},
     "output_type": "execute_result"
    }
   ],
   "source": [
    "lv.edit_distance('coal','deal')"
   ]
  },
  {
   "cell_type": "code",
   "execution_count": 438,
   "metadata": {
    "collapsed": false
   },
   "outputs": [
    {
     "data": {
      "text/plain": [
       "array([[ 0.,  1.,  2.,  3.,  4.],\n",
       "       [ 1.,  2.,  3.,  4.,  5.],\n",
       "       [ 2.,  3.,  4.,  5.,  6.],\n",
       "       [ 3.,  4.,  5.,  4.,  5.],\n",
       "       [ 4.,  5.,  6.,  5.,  4.]])"
      ]
     },
     "execution_count": 438,
     "metadata": {},
     "output_type": "execute_result"
    }
   ],
   "source": [
    "lv.edit_dist_matrices[('coal','deal')]"
   ]
  },
  {
   "cell_type": "code",
   "execution_count": 453,
   "metadata": {
    "collapsed": false
   },
   "outputs": [],
   "source": [
    "from itertools import combinations\n",
    "def lv_time_complexity(vocab_size,avg_len_word):\n",
    "    return len([(_,_) for _,_ in combinations(xrange(vocab_size),2)])*(avg_len_word**2)"
   ]
  },
  {
   "cell_type": "code",
   "execution_count": 502,
   "metadata": {
    "collapsed": false
   },
   "outputs": [
    {
     "name": "stdout",
     "output_type": "stream",
     "text": [
      "CPU times: user 2.41 s, sys: 299 ms, total: 2.71 s\n",
      "Wall time: 2.71 s\n"
     ]
    },
    {
     "data": {
      "image/png": "[encoded data removed]",
      "text/plain": [
       "<matplotlib.figure.Figure at 0x11598fcd0>"
      ]
     },
     "metadata": {},
     "output_type": "display_data"
    }
   ],
   "source": [
    "%%time\n",
    "from functools import partial\n",
    "import matplotlib.pyplot as plt\n",
    "%matplotlib inline\n",
    "vocab_size = range(0,1000,10)\n",
    "avg_len_word = np.mean([len(w) for w in words]) # ~7.8\n",
    "time_complexity = [partial(lv_time_complexity,vocab_size_i)(avg_len_word) \n",
    "                   for vocab_size_i in vocab_size]\n",
    "plt.plot(vocab_size, time_complexity)\n",
    "plt.ylim(0,1000000)\n",
    "plt.xlabel('Vocab Size')\n",
    "plt.ylabel('# of Computations')\n",
    "plt.title('Time Complexity of Levenshtein')"
   ]
  },
  {
   "cell_type": "markdown",
   "metadata": {
    "collapsed": true
   },
   "source": [
    "# Auto Correction"
   ]
  },
  {
   "cell_type": "code",
   "execution_count": 582,
   "metadata": {
    "collapsed": true
   },
   "outputs": [],
   "source": [
    "from collections import Counter\n",
    "from nltk import bigrams, trigrams"
   ]
  },
  {
   "cell_type": "code",
   "execution_count": 658,
   "metadata": {
    "collapsed": false
   },
   "outputs": [],
   "source": [
    "def load_brown():\n",
    "    \n",
    "    from nltk.corpus import brown\n",
    "    print \"... extracting words\"\n",
    "    words = [word.lower() for word in brown.words()]\n",
    "    return (Counter(words), words)"
   ]
  },
  {
   "cell_type": "code",
   "execution_count": 854,
   "metadata": {
    "collapsed": false
   },
   "outputs": [
    {
     "name": "stdout",
     "output_type": "stream",
     "text": [
      "... extracting words\n",
      "CPU times: user 3.27 s, sys: 27.5 ms, total: 3.3 s\n",
      "Wall time: 3.29 s\n"
     ]
    }
   ],
   "source": [
    "%%time\n",
    "brown_unigram_dict, brown_tokens = load_brown() # len: dict=49815, tokens=1161192."
   ]
  },
  {
   "cell_type": "code",
   "execution_count": 856,
   "metadata": {
    "collapsed": false
   },
   "outputs": [
    {
     "name": "stdout",
     "output_type": "stream",
     "text": [
      "CPU times: user 2.44 s, sys: 78.7 ms, total: 2.52 s\n",
      "Wall time: 2.5 s\n"
     ]
    }
   ],
   "source": [
    "%%time\n",
    "brown_bigram_dict = Counter(bigrams(brown_tokens))\n",
    "brown_trigram_dict = Counter(trigrams(brown_tokens))"
   ]
  },
  {
   "cell_type": "code",
   "execution_count": 857,
   "metadata": {
    "collapsed": false
   },
   "outputs": [],
   "source": [
    "from __future__ import division\n",
    "from copy import deepcopy\n",
    "count = lambda dic: sum(count for count in dic.values())\n",
    "def conditional_prob(counter_dic, total_num):\n",
    "    prob_dic = deepcopy(counter_dic)\n",
    "    for key in prob_dic.keys():\n",
    "        prob_dic[key] = prob_dic[key]/total_num\n",
    "    return prob_dic"
   ]
  },
  {
   "cell_type": "code",
   "execution_count": 859,
   "metadata": {
    "collapsed": false
   },
   "outputs": [
    {
     "name": "stdout",
     "output_type": "stream",
     "text": [
      "CPU times: user 11.5 s, sys: 285 ms, total: 11.8 s\n",
      "Wall time: 11.7 s\n"
     ]
    }
   ],
   "source": [
    "%%time\n",
    "num_unigrams, num_bigrams, num_trigrams = count(brown_unigram_dict), \\\n",
    "                                          count(brown_bigram_dict), \\\n",
    "                                          count(brown_trigram_dict)\n",
    "brown_unigram_prob_dict = conditional_prob(brown_unigram_dict,num_unigrams)\n",
    "brown_bigram_prob_dict = conditional_prob(brown_bigram_dict,num_bigrams)\n",
    "brown_trigram_prob_dict = conditional_prob(brown_trigram_dict,num_trigrams)"
   ]
  },
  {
   "cell_type": "code",
   "execution_count": 885,
   "metadata": {
    "collapsed": false
   },
   "outputs": [],
   "source": [
    "class AutoCorrect: \n",
    "    # NB: spelling corrector by Peter Norvig, ngram spelling check by Jacob Su Wang.\n",
    "    \n",
    "    def __init__(self, token_counter, unigram_prob_dict, \n",
    "                                      bigram_prob_dict, \n",
    "                                      trigram_prob_dict):\n",
    "        self.token_counter = token_counter\n",
    "        self.unigram_prob_dict = unigram_prob_dict\n",
    "        self.bigram_prob_dict = bigram_prob_dict\n",
    "        self.trigram_prob_dict = trigram_prob_dict\n",
    "        self.alphabet = 'abcdefghijklmnopqrstuvwxyz'\n",
    "        return\n",
    "    \n",
    "    def edits1(self, word):\n",
    "        splits     = [(word[:i], word[i:]) for i in range(len(word) + 1)]\n",
    "        deletes    = [a + b[1:] for a, b in splits if b]\n",
    "        transposes = [a + b[1] + b[0] + b[2:] for a, b in splits if len(b)>1]\n",
    "        replaces   = [a + c + b[1:] for a, b in splits for c in self.alphabet if b]\n",
    "        inserts    = [a + c + b     for a, b in splits for c in self.alphabet]\n",
    "        return set(deletes + transposes + replaces + inserts)\n",
    "    \n",
    "    def known_edits2(self, word):\n",
    "        return set(e2 for e1 in self.edits1(word) \n",
    "                      for e2 in self.edits1(e1) if e2 in self.token_counter)\n",
    "    \n",
    "    def known(self, words): \n",
    "        return set(w for w in words if w in self.token_counter)\n",
    "    \n",
    "    def get_n_grams(self, word_idx, sent):\n",
    "        unigram = sent[word_idx]\n",
    "        bigram = sent[max(0,word_idx-1):word_idx+1]\n",
    "        trigram = sent[max(0,word_idx-2):word_idx+1]\n",
    "        # pad '' when previous k words do not exist (e.g. sentence-initial).\n",
    "        for i in xrange(2-len(bigram)): \n",
    "            bigram.insert(0,'')\n",
    "        for i in xrange(3-len(trigram)):\n",
    "            trigram.insert(0,'')\n",
    "        return (unigram,tuple(bigram),tuple(trigram))\n",
    "\n",
    "    def correct(self, word):\n",
    "        candidates = self.known([word]) or \\\n",
    "                     self.known(self.edits1(word)) or \\\n",
    "                     self.known_edits2(word) or \\\n",
    "                     [word]\n",
    "        return max(candidates, key=self.token_counter.get)\n",
    "    \n",
    "    def linear_interpolation(self, unigram, bigram, trigram, \n",
    "                                     lmds):\n",
    "        prob = lmds[0] + lmds[1]*self.unigram_prob_dict[unigram] + \\\n",
    "                         lmds[2]*self.bigram_prob_dict[bigram] + \\\n",
    "                         lmds[3]*self.trigram_prob_dict[trigram]\n",
    "        return prob       \n",
    "    \n",
    "    def spelling_check(self, sent, lmds=[.05,.15,.3,.5]):\n",
    "        # lambda weights: UNK, unigram, bigram, trigram.\n",
    "        corrected_sent = []\n",
    "        for i,word in enumerate(sent):\n",
    "            unigram,bigram,trigram = self.get_n_grams(i,sent)\n",
    "            corrected = self.correct(word)\n",
    "            cor_unigram,cor_bigram,cor_trigram = corrected, \\\n",
    "                                                 (bigram[0],corrected), \\\n",
    "                                                 (trigram[0],trigram[1],corrected)\n",
    "            corrected_sent += [word] \\\n",
    "                              if self.linear_interpolation(unigram,bigram,trigram,lmds) > \\\n",
    "                                 self.linear_interpolation(cor_unigram,cor_bigram,cor_trigram,lmds) \\\n",
    "                              else [corrected]\n",
    "        return corrected_sent\n"
   ]
  },
  {
   "cell_type": "code",
   "execution_count": 886,
   "metadata": {
    "collapsed": true
   },
   "outputs": [],
   "source": [
    "ac = AutoCorrect(brown_unigram_dict, brown_unigram_prob_dict, brown_bigram_prob_dict, brown_trigram_prob_dict)"
   ]
  },
  {
   "cell_type": "code",
   "execution_count": 887,
   "metadata": {
    "collapsed": false
   },
   "outputs": [
    {
     "data": {
      "text/plain": [
       "['this', 'is', 'a', 'good', 'day', 'in', 'austin']"
      ]
     },
     "execution_count": 887,
     "metadata": {},
     "output_type": "execute_result"
    }
   ],
   "source": [
    "sent = 'this iss a goood dai in austin'.split()\n",
    "ac.spelling_check(sent)"
   ]
  },
  {
   "cell_type": "code",
   "execution_count": 898,
   "metadata": {
    "collapsed": false
   },
   "outputs": [
    {
     "name": "stdout",
     "output_type": "stream",
     "text": [
      "Pr('si') =  0.0500001291776\n",
      "Pr('is) =  0.051417724297\n"
     ]
    }
   ],
   "source": [
    "# IF 'is' is incorrectly corrected to 'si', \n",
    "#  linear interpolation saves the day:\n",
    "print \"Pr('si') = \", ac.linear_interpolation('si',('this','si'),('','this','si'),[.05,.15,.3,.5])\n",
    "print \"Pr('is) = \", ac.linear_interpolation('is',('this','is'),('','this','is'),[.05,.15,.3,.5])"
   ]
  },
  {
   "cell_type": "code",
   "execution_count": null,
   "metadata": {
    "collapsed": false
   },
   "outputs": [],
   "source": []
  },
  {
   "cell_type": "code",
   "execution_count": null,
   "metadata": {
    "collapsed": true
   },
   "outputs": [],
   "source": []
  },
  {
   "cell_type": "code",
   "execution_count": null,
   "metadata": {
    "collapsed": true
   },
   "outputs": [],
   "source": []
  },
  {
   "cell_type": "code",
   "execution_count": null,
   "metadata": {
    "collapsed": true
   },
   "outputs": [],
   "source": []
  },
  {
   "cell_type": "code",
   "execution_count": null,
   "metadata": {
    "collapsed": true
   },
   "outputs": [],
   "source": []
  },
  {
   "cell_type": "code",
   "execution_count": null,
   "metadata": {
    "collapsed": true
   },
   "outputs": [],
   "source": []
  }
 ],
 "metadata": {
  "kernelspec": {
   "display_name": "Python 2",
   "language": "python",
   "name": "python2"
  },
  "language_info": {
   "codemirror_mode": {
    "name": "ipython",
    "version": 2
   },
   "file_extension": ".py",
   "mimetype": "text/x-python",
   "name": "python",
   "nbconvert_exporter": "python",
   "pygments_lexer": "ipython2",
   "version": "2.7.11"
  }
 },
 "nbformat": 4,
 "nbformat_minor": 0
}
