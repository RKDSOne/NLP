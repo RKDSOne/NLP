{
 "cells": [
  {
   "cell_type": "markdown",
   "metadata": {},
   "source": [
    "# Regex"
   ]
  },
  {
   "cell_type": "code",
   "execution_count": 1,
   "metadata": {
    "collapsed": true
   },
   "outputs": [],
   "source": [
    "import re"
   ]
  },
  {
   "cell_type": "code",
   "execution_count": 17,
   "metadata": {
    "collapsed": false
   },
   "outputs": [
    {
     "name": "stdout",
     "output_type": "stream",
     "text": [
      "1found!\n",
      "3found!\n",
      "4found!\n"
     ]
    }
   ],
   "source": [
    "# MATCH & SEARCH\n",
    "sent = '''sent1\n",
    "sent2\n",
    "sent3'''\n",
    "if re.match(r'sent1',sent): print \"1found!\"\n",
    "if re.match(r'sent2',sent): print \"2found!\"\n",
    "if re.search(r'sent1',sent): print \"3found!\"\n",
    "if re.search(r'sent2',sent): print \"4found!\""
   ]
  },
  {
   "cell_type": "code",
   "execution_count": 18,
   "metadata": {
    "collapsed": false
   },
   "outputs": [
    {
     "data": {
      "text/plain": [
       "['sent', 'sent', 'sent']"
      ]
     },
     "execution_count": 18,
     "metadata": {},
     "output_type": "execute_result"
    }
   ],
   "source": [
    "# FINDALL\n",
    "re.findall(r'sent',sent)"
   ]
  },
  {
   "cell_type": "code",
   "execution_count": 24,
   "metadata": {
    "collapsed": false
   },
   "outputs": [
    {
     "data": {
      "text/plain": [
       "'sent'"
      ]
     },
     "execution_count": 24,
     "metadata": {},
     "output_type": "execute_result"
    }
   ],
   "source": [
    "# GROUP\n",
    "re.search(r'sent',sent).group()"
   ]
  },
  {
   "cell_type": "code",
   "execution_count": 30,
   "metadata": {
    "collapsed": false
   },
   "outputs": [
    {
     "name": "stdout",
     "output_type": "stream",
     "text": [
      "6\n",
      "11\n",
      "(6, 11)\n"
     ]
    }
   ],
   "source": [
    "# START, END & SPAN\n",
    "print re.search(r'sent2',sent).start()\n",
    "print re.search(r'sent2',sent).end()\n",
    "print re.search(r'sent2',sent).span()"
   ]
  },
  {
   "cell_type": "markdown",
   "metadata": {},
   "source": [
    "# FSA\n",
    "\n",
    "* **LIBRARY LINK**: https://github.com/tyarkoni/transitions"
   ]
  },
  {
   "cell_type": "code",
   "execution_count": null,
   "metadata": {
    "collapsed": true
   },
   "outputs": [],
   "source": [
    "# SHEEP TALK"
   ]
  },
  {
   "cell_type": "code",
   "execution_count": 39,
   "metadata": {
    "collapsed": true
   },
   "outputs": [],
   "source": [
    "# a. FSA\n",
    "#\n",
    "# q0 --b--> q1 --a--> q2 --a--> q3 --!--> |q4|\n",
    "#                                |_a_| \n",
    "\n",
    "def sheep_talk_fsa(string):\n",
    "    transitions = {(0,'b'):1,(1,'a'):2,(2,'a'):3,(3,'a'):3,(3,'!'):4} \n",
    "    q = 0\n",
    "    for ch in string:\n",
    "        try: q = transitions[(q,ch)]\n",
    "        except:\n",
    "            return False\n",
    "    return True"
   ]
  },
  {
   "cell_type": "code",
   "execution_count": 40,
   "metadata": {
    "collapsed": false
   },
   "outputs": [
    {
     "name": "stdout",
     "output_type": "stream",
     "text": [
      "True\n",
      "False\n",
      "False\n"
     ]
    }
   ],
   "source": [
    "s1 = 'baaaa!'\n",
    "s2 = 'aba!'\n",
    "s3 = 'ba!'\n",
    "print sheep_talk_fsa(s1)\n",
    "print sheep_talk_fsa(s2)\n",
    "print sheep_talk_fsa(s3)"
   ]
  },
  {
   "cell_type": "code",
   "execution_count": 169,
   "metadata": {
    "collapsed": false
   },
   "outputs": [],
   "source": [
    "# b. NFSA\n",
    "# \n",
    "# q0 --b--> q1 --a--> q2 --a--> q3 --!--> |q4|\n",
    "#                      |_a_| \n",
    "\n",
    "def sheep_talk_nfsa(q, transitions, string, end_state_idx):\n",
    "    if q==end_state_idx and string=='': return True\n",
    "    if (q,string[0]) in transitions.keys():  \n",
    "        if len(transitions[(q,string[0])])==1: \n",
    "            q = transitions[(q,string[0])][0]\n",
    "            return sheep_talk_nfsa(q, transitions, string[1:], end_state_idx)\n",
    "        next_q = transitions[(q,string[0])][1]\n",
    "        q = transitions[(q,string[0])][0]\n",
    "        return (sheep_talk_nfsa(q, transitions, string[1:], end_state_idx) or sheep_talk_nfsa(next_q, transitions, string[1:], end_state_idx)) \n",
    "    else: return False"
   ]
  },
  {
   "cell_type": "code",
   "execution_count": 170,
   "metadata": {
    "collapsed": false
   },
   "outputs": [
    {
     "name": "stdout",
     "output_type": "stream",
     "text": [
      "True\n",
      "False\n",
      "False\n"
     ]
    }
   ],
   "source": [
    "s1 = 'baaaa!'\n",
    "s2 = 'aba!'\n",
    "s3 = 'ba!'\n",
    "transitions = {(0,'b'):[1],(1,'a'):[2],(2,'a'):[2,3],(3,'!'):[4]} \n",
    "print sheep_talk_nfsa(0, transitions, s1, 4)\n",
    "print sheep_talk_nfsa(0, transitions, s2, 4)\n",
    "print sheep_talk_nfsa(0, transitions, s3, 4)"
   ]
  },
  {
   "cell_type": "code",
   "execution_count": null,
   "metadata": {
    "collapsed": false
   },
   "outputs": [],
   "source": []
  },
  {
   "cell_type": "code",
   "execution_count": null,
   "metadata": {
    "collapsed": true
   },
   "outputs": [],
   "source": []
  },
  {
   "cell_type": "code",
   "execution_count": null,
   "metadata": {
    "collapsed": true
   },
   "outputs": [],
   "source": []
  },
  {
   "cell_type": "code",
   "execution_count": null,
   "metadata": {
    "collapsed": true
   },
   "outputs": [],
   "source": []
  },
  {
   "cell_type": "code",
   "execution_count": null,
   "metadata": {
    "collapsed": true
   },
   "outputs": [],
   "source": []
  },
  {
   "cell_type": "code",
   "execution_count": null,
   "metadata": {
    "collapsed": true
   },
   "outputs": [],
   "source": []
  },
  {
   "cell_type": "code",
   "execution_count": null,
   "metadata": {
    "collapsed": true
   },
   "outputs": [],
   "source": []
  },
  {
   "cell_type": "code",
   "execution_count": null,
   "metadata": {
    "collapsed": true
   },
   "outputs": [],
   "source": []
  },
  {
   "cell_type": "code",
   "execution_count": null,
   "metadata": {
    "collapsed": true
   },
   "outputs": [],
   "source": []
  }
 ],
 "metadata": {
  "kernelspec": {
   "display_name": "Python 2",
   "language": "python",
   "name": "python2"
  },
  "language_info": {
   "codemirror_mode": {
    "name": "ipython",
    "version": 2
   },
   "file_extension": ".py",
   "mimetype": "text/x-python",
   "name": "python",
   "nbconvert_exporter": "python",
   "pygments_lexer": "ipython2",
   "version": "2.7.11"
  }
 },
 "nbformat": 4,
 "nbformat_minor": 0
}
