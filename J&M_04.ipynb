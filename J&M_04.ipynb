{
 "cells": [
  {
   "cell_type": "markdown",
   "metadata": {},
   "source": [
    "# MaxEnt Classification"
   ]
  },
  {
   "cell_type": "markdown",
   "metadata": {},
   "source": [
    "### A. Concepts (ME as an Instance of Generalized Linear Regression)"
   ]
  },
  {
   "cell_type": "markdown",
   "metadata": {},
   "source": [
    "** a. Classify By Probability **\n",
    "\n",
    "* **Probability of a Classifying as $c$**: \n",
    "    * $p(c|x) = \\frac{p(c,x)}{p(x)} = \\frac{p(x|c)p(c)}{\\sum_cp(x|c)p(c)} = \\frac{exp\\left(\\sum_{i=0}^Nw_{ci}f_i\\right)}{\\sum_{c'\\in C}exp\\left(\\sum_{i=0}^Nw_{c'i}f_i\\right)} = \\frac{exp\\left(\\sum_{i=0}^Nw_{ci}f_i(c,x)\\right)}{\\sum_{c'\\in C}exp\\left(\\sum_{i=0}^Nw_{c'i}f_i(c',x)\\right)}$\n",
    "    * $f(c/c',x)$ is an indicator function indicating the presence/absence of a feature, which is binary-valued $\\{0,1\\}$. \n",
    "\n",
    "\n",
    "* **Best Class $\\hat{c}$**: \n",
    "    * $\\hat{c} = argmax_{c\\in C}p(c|x)$.\n",
    "\n",
    "\n",
    "* **Best Weights $\\hat{w}$**:\n",
    "    * $\\hat{w} = argmax_w\\sum_ilogp(y^{(i)}|x^{(i)})$, where $(x^{(i)}, y^{(i)})$ are training pairs.\n",
    "\n",
    "\n",
    "* **NB**: \n",
    "    * For an excellent explanation for the use of exponential, cf. J&M ch6.6:26-8.\n",
    "    * cf. J&M ch6.7:30-1, the original derivation in eq.6.79 is notationally incorrect, specifically $\\sum_Cp(c|x)$ is equal to 1, instead of $\\sum_{c'\\in C}exp\\left(\\sum_{i=0}^Nw_{c'i}f_i\\right)$.\n",
    "    * Caveat: in practice, in sequence classification, MaxEnt classification described here is used as a part of a larger classifier, because our goal is to find the *best sequence of classification*, not *single-best classification for each unit in a sequence*."
   ]
  },
  {
   "cell_type": "markdown",
   "metadata": {},
   "source": [
    "** b. Finding Best Weights**\n",
    "\n",
    "* **Maximizing Loglikelihood (i.e. MLE)**: (notation: $C$ for 'all classes' $D$ for all corresponding data)\n",
    "\n",
    "    * $logp(C|D,w) = \\sum_{(c,d)\\in(C,D)}log\\frac{exp\\sum_iw_if_i(c,d)}{\\sum_{c'}exp\\sum_iw_if_i(c,d)} = \\sum_{(c,d)\\in(C,D)}logexp\\sum_iw_if_i(c,d) - \\sum_{(c,d)\\in(C,D)}log\\sum_{c'}exp\\sum_iw_if_i(c',d)$, the optimization goal is to find $w$ that maximizes $logp(C|D,w)$.\n",
    "    \n",
    "    * $\\frac{\\partial logp(C|D,w)}{\\partial w_i} = \\sum_{(c,d)\\in(C,D)}f_i(c,d) - \\sum_{(c,d)\\in(C,D)}\\sum_{c'}p(c'|d,w)f_i(c',d)$, where $p(c'|d,w) = \\frac{exp\\sum_iw_if_i(c',d)}{\\sum_{c''}exp\\sum_iw_if_i(c'',d)}$ (i.e. empirical - predicted. cf. Stanford MaxEnt Tutorial (SMT hereafter):24-7, http://people.eecs.berkeley.edu/~klein/papers/maxent-tutorial-slides.pdf)\n",
    "\n",
    "\n",
    "* **Maximizing Posterior Probability (i.e. MAP)**:\n",
    "\n",
    "    * We have some prior distribution of the weights: $p(w)$, and the likelihood of a class assignments $C$ given the data and weights is $p(C|D,w)$. Then, the posterior probability of the classification will be $p(w)\\cdot p(C|D,w) = p(C,w|D)$. The optimization goal now is then finding the $w$ that maximizes the log-probability $logp(C,w|D)$, where $logp(C,w|D) = logp(w) + logp(C|D,w)$.\n",
    "    \n",
    "    * $\\frac{\\partial logp(C,w|D)}{\\partial w_i} = \\sum_{(c,d)\\in(C,D)}f_i(c,d) - \\sum_{(c,d)\\in(C,D)}\\sum_{c'}p(c'|d,w)f_i(c',d) - \\frac{(w_i - \\mu_i)}{\\sigma^2}$, assuming the prior $p(w)$ is *Gaussian*, i.e. $p(w_i) = \\frac{1}{\\sigma\\sqrt{2\\pi}}exp\\left(-\\frac{(w_i-\\mu_i)^2}{2\\sigma^2}\\right)$, where $2\\sigma^2 = 1$ works well empirically (cf. SMT:55).\n",
    "    \n",
    "\n",
    "* Implementation Note: \n",
    "    * Writing $log\\frac{*}{*}$ as $log* - log*$ comes with the benefit of ...\n",
    "        * Intuitive explanation, i.e. emprical - actual.\n",
    "        * Easy derivative representation.\n",
    "    * In computing the cost function, $J(w) = -logp(C|D,w)$, for instance, this not necessary (coding following the original function is usually simpler)."
   ]
  },
  {
   "cell_type": "markdown",
   "metadata": {},
   "source": [
    "### B. Basic Optimization Demo (Logistic Regression)"
   ]
  },
  {
   "cell_type": "markdown",
   "metadata": {},
   "source": [
    "** a. Math ** (cf. J&M ch6.6:29-30)\n",
    "\n",
    "* **Logistic Function**: $p(y=1|x) = \\frac{1}{1+e^{-w\\cdot x}}$; $p(y=0|x) = 1 - p(y=1|x) = \\frac{e^{-w\\cdot x}}{1+e^{-w\\cdot x}}$.\n",
    "\n",
    "\n",
    "* **Cost Function**: $J(w) = -\\frac{1}{n}\\sum_{i=1}^ny^{(i)}log\\frac{1}{1+e^{-w\\cdot x^{(i)}}} - (1-y^{(i)})log\\frac{e^{-w\\cdot x^{(i)}}}{1+e^{-w\\cdot x^{(i)}}}$.\n",
    "\n",
    "\n",
    "* **Gradient**: $\\frac{\\partial J(w)}{\\partial w_j} = \\frac{1}{n}\\sum_{i=1}^n(\\frac{1}{1+e^{-w\\cdot x_i}} - y_i)x_{ij}$, where $x_{ij}$ is the $j$th element in the vector $x_i$.\n",
    "\n",
    "\n",
    "* **NB**: $n$ is *batch size*."
   ]
  },
  {
   "cell_type": "code",
   "execution_count": 6,
   "metadata": {
    "collapsed": false
   },
   "outputs": [],
   "source": [
    "import os\n",
    "os.chdir('/Users/jacobsw/Desktop/IMPLEMENTATION_CAMP/CODE/BASIC_TOPICS/NLP/DATA/')"
   ]
  },
  {
   "cell_type": "code",
   "execution_count": 76,
   "metadata": {
    "collapsed": true
   },
   "outputs": [],
   "source": [
    "import pandas as pd\n",
    "import numpy as np\n",
    "from __future__ import division\n",
    "import scipy.optimize as sco"
   ]
  },
  {
   "cell_type": "code",
   "execution_count": 14,
   "metadata": {
    "collapsed": true
   },
   "outputs": [],
   "source": [
    "import matplotlib.pyplot as plt\n",
    "%matplotlib inline"
   ]
  },
  {
   "cell_type": "markdown",
   "metadata": {},
   "source": [
    "** b. Step-By-Step Demo **"
   ]
  },
  {
   "cell_type": "code",
   "execution_count": 10,
   "metadata": {
    "collapsed": false
   },
   "outputs": [
    {
     "data": {
      "text/html": [
       "<div>\n",
       "<table border=\"1\" class=\"dataframe\">\n",
       "  <thead>\n",
       "    <tr style=\"text-align: right;\">\n",
       "      <th></th>\n",
       "      <th>mpg</th>\n",
       "      <th>cylinders</th>\n",
       "      <th>displacement</th>\n",
       "      <th>horsepower</th>\n",
       "      <th>weight</th>\n",
       "      <th>acceleration</th>\n",
       "      <th>model_year</th>\n",
       "      <th>origin</th>\n",
       "      <th>car_name</th>\n",
       "    </tr>\n",
       "  </thead>\n",
       "  <tbody>\n",
       "    <tr>\n",
       "      <th>0</th>\n",
       "      <td>18.0</td>\n",
       "      <td>8</td>\n",
       "      <td>307.0</td>\n",
       "      <td>130.0</td>\n",
       "      <td>3504.0</td>\n",
       "      <td>12.0</td>\n",
       "      <td>70</td>\n",
       "      <td>1</td>\n",
       "      <td>chevrolet chevelle malibu</td>\n",
       "    </tr>\n",
       "    <tr>\n",
       "      <th>1</th>\n",
       "      <td>15.0</td>\n",
       "      <td>8</td>\n",
       "      <td>350.0</td>\n",
       "      <td>165.0</td>\n",
       "      <td>3693.0</td>\n",
       "      <td>11.5</td>\n",
       "      <td>70</td>\n",
       "      <td>1</td>\n",
       "      <td>buick skylark 320</td>\n",
       "    </tr>\n",
       "    <tr>\n",
       "      <th>2</th>\n",
       "      <td>18.0</td>\n",
       "      <td>8</td>\n",
       "      <td>318.0</td>\n",
       "      <td>150.0</td>\n",
       "      <td>3436.0</td>\n",
       "      <td>11.0</td>\n",
       "      <td>70</td>\n",
       "      <td>1</td>\n",
       "      <td>plymouth satellite</td>\n",
       "    </tr>\n",
       "    <tr>\n",
       "      <th>3</th>\n",
       "      <td>16.0</td>\n",
       "      <td>8</td>\n",
       "      <td>304.0</td>\n",
       "      <td>150.0</td>\n",
       "      <td>3433.0</td>\n",
       "      <td>12.0</td>\n",
       "      <td>70</td>\n",
       "      <td>1</td>\n",
       "      <td>amc rebel sst</td>\n",
       "    </tr>\n",
       "    <tr>\n",
       "      <th>4</th>\n",
       "      <td>17.0</td>\n",
       "      <td>8</td>\n",
       "      <td>302.0</td>\n",
       "      <td>140.0</td>\n",
       "      <td>3449.0</td>\n",
       "      <td>10.5</td>\n",
       "      <td>70</td>\n",
       "      <td>1</td>\n",
       "      <td>ford torino</td>\n",
       "    </tr>\n",
       "  </tbody>\n",
       "</table>\n",
       "</div>"
      ],
      "text/plain": [
       "    mpg  cylinders  displacement  horsepower  weight  acceleration  \\\n",
       "0  18.0          8         307.0       130.0  3504.0          12.0   \n",
       "1  15.0          8         350.0       165.0  3693.0          11.5   \n",
       "2  18.0          8         318.0       150.0  3436.0          11.0   \n",
       "3  16.0          8         304.0       150.0  3433.0          12.0   \n",
       "4  17.0          8         302.0       140.0  3449.0          10.5   \n",
       "\n",
       "   model_year  origin                   car_name  \n",
       "0          70       1  chevrolet chevelle malibu  \n",
       "1          70       1          buick skylark 320  \n",
       "2          70       1         plymouth satellite  \n",
       "3          70       1              amc rebel sst  \n",
       "4          70       1                ford torino  "
      ]
     },
     "execution_count": 10,
     "metadata": {},
     "output_type": "execute_result"
    }
   ],
   "source": [
    "data = pd.read_csv('carmpg.txt', sep='\\s+', \n",
    "                  names=['mpg','cylinders','displacement','horsepower',\n",
    "                         'weight','acceleration','model_year','origin','car_name'])\n",
    "data.head()"
   ]
  },
  {
   "cell_type": "code",
   "execution_count": 186,
   "metadata": {
    "collapsed": true
   },
   "outputs": [],
   "source": [
    "# TASK: mpg = beta0 + beta1*horsepower + beta2*acceleration"
   ]
  },
  {
   "cell_type": "code",
   "execution_count": 42,
   "metadata": {
    "collapsed": false
   },
   "outputs": [
    {
     "data": {
      "text/plain": [
       "[<matplotlib.lines.Line2D at 0x1192d0250>]"
      ]
     },
     "execution_count": 42,
     "metadata": {},
     "output_type": "execute_result"
    },
    {
     "data": {
      "image/png": "[encoded data removed]",
      "text/plain": [
       "<matplotlib.figure.Figure at 0x118edda10>"
      ]
     },
     "metadata": {},
     "output_type": "display_data"
    }
   ],
   "source": [
    "# TARGET\n",
    "plt.plot(sorted(data['mpg']))"
   ]
  },
  {
   "cell_type": "code",
   "execution_count": 26,
   "metadata": {
    "collapsed": false
   },
   "outputs": [
    {
     "data": {
      "text/plain": [
       "<matplotlib.collections.PathCollection at 0x11854b650>"
      ]
     },
     "execution_count": 26,
     "metadata": {},
     "output_type": "execute_result"
    },
    {
     "data": {
      "image/png": "[encoded data removed]",
      "text/plain": [
       "<matplotlib.figure.Figure at 0x1183a94d0>"
      ]
     },
     "metadata": {},
     "output_type": "display_data"
    }
   ],
   "source": [
    "# 1 NEGATIVE PREDICTOR\n",
    "plt.scatter(data['mpg'],data['horsepower'])"
   ]
  },
  {
   "cell_type": "code",
   "execution_count": 40,
   "metadata": {
    "collapsed": false
   },
   "outputs": [
    {
     "data": {
      "text/plain": [
       "<matplotlib.collections.PathCollection at 0x118f7d450>"
      ]
     },
     "execution_count": 40,
     "metadata": {},
     "output_type": "execute_result"
    },
    {
     "data": {
      "image/png": "[encoded data removed]",
      "text/plain": [
       "<matplotlib.figure.Figure at 0x118edd410>"
      ]
     },
     "metadata": {},
     "output_type": "display_data"
    }
   ],
   "source": [
    "# 1 POSITIVE PREDICTOR\n",
    "plt.scatter(data['mpg'],data['acceleration'])"
   ]
  },
  {
   "cell_type": "code",
   "execution_count": 21,
   "metadata": {
    "collapsed": false
   },
   "outputs": [],
   "source": [
    "mean = np.mean(data['mpg'])\n",
    "data['high_mpg'] = map(lambda x:1 if x>mean else 0, data['mpg'])"
   ]
  },
  {
   "cell_type": "code",
   "execution_count": 22,
   "metadata": {
    "collapsed": false
   },
   "outputs": [
    {
     "data": {
      "text/html": [
       "<div>\n",
       "<table border=\"1\" class=\"dataframe\">\n",
       "  <thead>\n",
       "    <tr style=\"text-align: right;\">\n",
       "      <th></th>\n",
       "      <th>mpg</th>\n",
       "      <th>cylinders</th>\n",
       "      <th>displacement</th>\n",
       "      <th>horsepower</th>\n",
       "      <th>weight</th>\n",
       "      <th>acceleration</th>\n",
       "      <th>model_year</th>\n",
       "      <th>origin</th>\n",
       "      <th>car_name</th>\n",
       "      <th>high_mpg</th>\n",
       "    </tr>\n",
       "  </thead>\n",
       "  <tbody>\n",
       "    <tr>\n",
       "      <th>0</th>\n",
       "      <td>18.0</td>\n",
       "      <td>8</td>\n",
       "      <td>307.0</td>\n",
       "      <td>130.0</td>\n",
       "      <td>3504.0</td>\n",
       "      <td>12.0</td>\n",
       "      <td>70</td>\n",
       "      <td>1</td>\n",
       "      <td>chevrolet chevelle malibu</td>\n",
       "      <td>0</td>\n",
       "    </tr>\n",
       "    <tr>\n",
       "      <th>1</th>\n",
       "      <td>15.0</td>\n",
       "      <td>8</td>\n",
       "      <td>350.0</td>\n",
       "      <td>165.0</td>\n",
       "      <td>3693.0</td>\n",
       "      <td>11.5</td>\n",
       "      <td>70</td>\n",
       "      <td>1</td>\n",
       "      <td>buick skylark 320</td>\n",
       "      <td>0</td>\n",
       "    </tr>\n",
       "    <tr>\n",
       "      <th>2</th>\n",
       "      <td>18.0</td>\n",
       "      <td>8</td>\n",
       "      <td>318.0</td>\n",
       "      <td>150.0</td>\n",
       "      <td>3436.0</td>\n",
       "      <td>11.0</td>\n",
       "      <td>70</td>\n",
       "      <td>1</td>\n",
       "      <td>plymouth satellite</td>\n",
       "      <td>0</td>\n",
       "    </tr>\n",
       "    <tr>\n",
       "      <th>3</th>\n",
       "      <td>16.0</td>\n",
       "      <td>8</td>\n",
       "      <td>304.0</td>\n",
       "      <td>150.0</td>\n",
       "      <td>3433.0</td>\n",
       "      <td>12.0</td>\n",
       "      <td>70</td>\n",
       "      <td>1</td>\n",
       "      <td>amc rebel sst</td>\n",
       "      <td>0</td>\n",
       "    </tr>\n",
       "    <tr>\n",
       "      <th>4</th>\n",
       "      <td>17.0</td>\n",
       "      <td>8</td>\n",
       "      <td>302.0</td>\n",
       "      <td>140.0</td>\n",
       "      <td>3449.0</td>\n",
       "      <td>10.5</td>\n",
       "      <td>70</td>\n",
       "      <td>1</td>\n",
       "      <td>ford torino</td>\n",
       "      <td>0</td>\n",
       "    </tr>\n",
       "  </tbody>\n",
       "</table>\n",
       "</div>"
      ],
      "text/plain": [
       "    mpg  cylinders  displacement  horsepower  weight  acceleration  \\\n",
       "0  18.0          8         307.0       130.0  3504.0          12.0   \n",
       "1  15.0          8         350.0       165.0  3693.0          11.5   \n",
       "2  18.0          8         318.0       150.0  3436.0          11.0   \n",
       "3  16.0          8         304.0       150.0  3433.0          12.0   \n",
       "4  17.0          8         302.0       140.0  3449.0          10.5   \n",
       "\n",
       "   model_year  origin                   car_name  high_mpg  \n",
       "0          70       1  chevrolet chevelle malibu         0  \n",
       "1          70       1          buick skylark 320         0  \n",
       "2          70       1         plymouth satellite         0  \n",
       "3          70       1              amc rebel sst         0  \n",
       "4          70       1                ford torino         0  "
      ]
     },
     "execution_count": 22,
     "metadata": {},
     "output_type": "execute_result"
    }
   ],
   "source": [
    "data.head()"
   ]
  },
  {
   "cell_type": "code",
   "execution_count": 47,
   "metadata": {
    "collapsed": false
   },
   "outputs": [
    {
     "data": {
      "text/html": [
       "<div>\n",
       "<table border=\"1\" class=\"dataframe\">\n",
       "  <thead>\n",
       "    <tr style=\"text-align: right;\">\n",
       "      <th></th>\n",
       "      <th>horsepower</th>\n",
       "      <th>acceleration</th>\n",
       "    </tr>\n",
       "  </thead>\n",
       "  <tbody>\n",
       "    <tr>\n",
       "      <th>0</th>\n",
       "      <td>130.0</td>\n",
       "      <td>12.0</td>\n",
       "    </tr>\n",
       "    <tr>\n",
       "      <th>1</th>\n",
       "      <td>165.0</td>\n",
       "      <td>11.5</td>\n",
       "    </tr>\n",
       "    <tr>\n",
       "      <th>2</th>\n",
       "      <td>150.0</td>\n",
       "      <td>11.0</td>\n",
       "    </tr>\n",
       "    <tr>\n",
       "      <th>3</th>\n",
       "      <td>150.0</td>\n",
       "      <td>12.0</td>\n",
       "    </tr>\n",
       "    <tr>\n",
       "      <th>4</th>\n",
       "      <td>140.0</td>\n",
       "      <td>10.5</td>\n",
       "    </tr>\n",
       "  </tbody>\n",
       "</table>\n",
       "</div>"
      ],
      "text/plain": [
       "   horsepower  acceleration\n",
       "0       130.0          12.0\n",
       "1       165.0          11.5\n",
       "2       150.0          11.0\n",
       "3       150.0          12.0\n",
       "4       140.0          10.5"
      ]
     },
     "execution_count": 47,
     "metadata": {},
     "output_type": "execute_result"
    }
   ],
   "source": [
    "data[['horsepower','acceleration']].head()"
   ]
  },
  {
   "cell_type": "code",
   "execution_count": 123,
   "metadata": {
    "collapsed": false
   },
   "outputs": [],
   "source": [
    "def normalize(x):\n",
    "    return ((x - np.mean(x)) / np.std(x))[:,np.newaxis]"
   ]
  },
  {
   "cell_type": "code",
   "execution_count": 281,
   "metadata": {
    "collapsed": false
   },
   "outputs": [],
   "source": [
    "X, Y = np.hstack((np.ones((len(data),1)),\n",
    "                  normalize(np.array(data['horsepower'])),\n",
    "                  normalize(np.array(data['acceleration'])))), \\\n",
    "       np.array(data['high_mpg'])"
   ]
  },
  {
   "cell_type": "code",
   "execution_count": 282,
   "metadata": {
    "collapsed": true
   },
   "outputs": [],
   "source": [
    "W = np.random.random(3) # bias, W_1 for X_1 horsepower, W_2 for X_2 acceleration."
   ]
  },
  {
   "cell_type": "code",
   "execution_count": 283,
   "metadata": {
    "collapsed": false
   },
   "outputs": [],
   "source": [
    "def fx(W_i,X_i):\n",
    "    return 1 / (1 + np.exp(-np.dot(W_i,X_i)))\n",
    "def log(Z): # Z = dot(W,X)\n",
    "    return np.nan_to_num(np.log(Z))"
   ]
  },
  {
   "cell_type": "code",
   "execution_count": 284,
   "metadata": {
    "collapsed": false
   },
   "outputs": [],
   "source": [
    "def cost(W,X,Y):\n",
    "    return 1/len(X) * sum(- Y_i*log(fx(W,X_i)) - (1-Y_i)*log(1-fx(W,X_i))\n",
    "                          for X_i,Y_i in zip(X,Y))\n",
    "def grad(W,X,Y):\n",
    "    return 1/len(X) * sum([ (fx(W,X_i)-Y_i)*X_i for X_i,Y_i in zip(X,Y) ])"
   ]
  },
  {
   "cell_type": "code",
   "execution_count": 285,
   "metadata": {
    "collapsed": false
   },
   "outputs": [
    {
     "data": {
      "text/plain": [
       "0.76157348234820277"
      ]
     },
     "execution_count": 285,
     "metadata": {},
     "output_type": "execute_result"
    }
   ],
   "source": [
    "cost(W,X,Y)"
   ]
  },
  {
   "cell_type": "code",
   "execution_count": 286,
   "metadata": {
    "collapsed": false
   },
   "outputs": [
    {
     "data": {
      "text/plain": [
       "array([ 0.26331889,  0.39638329,  0.62669563])"
      ]
     },
     "execution_count": 286,
     "metadata": {},
     "output_type": "execute_result"
    }
   ],
   "source": [
    "W"
   ]
  },
  {
   "cell_type": "code",
   "execution_count": 287,
   "metadata": {
    "collapsed": false
   },
   "outputs": [
    {
     "data": {
      "text/plain": [
       "array([[ 1.        ,  0.67602454, -1.29549834],\n",
       "       [ 1.        ,  1.58967758, -1.47703779],\n",
       "       [ 1.        ,  1.19811199, -1.65857724],\n",
       "       ..., \n",
       "       [ 1.        , -0.52477659, -1.4407299 ],\n",
       "       [ 1.        , -0.65529846,  1.10082237],\n",
       "       [ 1.        , -0.57698534,  1.39128549]])"
      ]
     },
     "execution_count": 287,
     "metadata": {},
     "output_type": "execute_result"
    }
   ],
   "source": [
    "X"
   ]
  },
  {
   "cell_type": "code",
   "execution_count": 288,
   "metadata": {
    "collapsed": false
   },
   "outputs": [
    {
     "data": {
      "text/plain": [
       "array([0, 0, 0, 0, 0, 0, 0, 0, 0, 0, 0, 0, 0, 0, 1, 0, 0, 0, 1, 1, 1, 1, 1,\n",
       "       1, 0, 0, 0, 0, 0, 1, 1, 1, 1, 0, 0, 0, 0, 0, 0, 0, 0, 0, 0, 0, 0, 0,\n",
       "       0, 0, 0, 0, 1, 1, 1, 1, 1, 1, 1, 1, 1, 0, 0, 0, 0, 0, 0, 0, 0, 0, 0,\n",
       "       0, 0, 0, 0, 0, 0, 0, 0, 0, 0, 1, 0, 1, 0, 1, 1, 0, 0, 0, 0, 0, 0, 0,\n",
       "       0, 0, 0, 0, 0, 0, 0, 0, 0, 0, 1, 0, 0, 0, 0, 0, 0, 0, 0, 0, 0, 0, 1,\n",
       "       0, 0, 1, 1, 0, 0, 0, 1, 0, 0, 0, 0, 0, 0, 1, 1, 1, 1, 0, 0, 0, 0, 0,\n",
       "       0, 0, 0, 1, 1, 1, 1, 1, 1, 1, 1, 1, 1, 1, 0, 0, 0, 0, 0, 0, 0, 0, 0,\n",
       "       0, 0, 0, 0, 0, 0, 1, 0, 0, 0, 1, 1, 1, 0, 1, 0, 0, 0, 0, 1, 1, 1, 1,\n",
       "       1, 1, 1, 0, 0, 0, 0, 0, 0, 1, 0, 1, 1, 1, 1, 0, 0, 0, 0, 1, 1, 1, 1,\n",
       "       0, 0, 0, 0, 0, 0, 0, 0, 0, 1, 1, 1, 1, 1, 0, 0, 0, 0, 0, 0, 0, 0, 0,\n",
       "       0, 0, 0, 1, 1, 1, 1, 1, 1, 1, 1, 0, 0, 0, 1, 1, 1, 1, 1, 0, 0, 0, 0,\n",
       "       0, 0, 1, 0, 0, 0, 0, 0, 0, 0, 0, 0, 0, 1, 1, 1, 1, 0, 0, 1, 1, 0, 0,\n",
       "       0, 0, 1, 1, 0, 0, 0, 0, 0, 0, 0, 0, 0, 0, 0, 0, 0, 1, 1, 1, 1, 1, 0,\n",
       "       1, 1, 1, 1, 1, 1, 1, 1, 1, 1, 1, 1, 1, 1, 1, 1, 1, 0, 1, 1, 1, 1, 1,\n",
       "       1, 1, 1, 1, 1, 1, 1, 1, 1, 1, 1, 1, 1, 1, 1, 1, 1, 1, 1, 0, 1, 1, 1,\n",
       "       1, 1, 1, 1, 1, 1, 1, 1, 1, 1, 1, 1, 1, 1, 1, 1, 1, 1, 0, 1, 0, 0, 1,\n",
       "       1, 1, 1, 1, 1, 1, 0, 1, 1, 1, 1, 1, 1, 1, 1, 1, 1, 1, 1, 1, 1, 0, 1,\n",
       "       1, 1, 1, 1, 1, 1, 1])"
      ]
     },
     "execution_count": 288,
     "metadata": {},
     "output_type": "execute_result"
    }
   ],
   "source": [
    "Y"
   ]
  },
  {
   "cell_type": "code",
   "execution_count": 289,
   "metadata": {
    "collapsed": false
   },
   "outputs": [
    {
     "name": "stdout",
     "output_type": "stream",
     "text": [
      "(3,) (398, 3) (398,)\n"
     ]
    }
   ],
   "source": [
    "print W.shape, X.shape, Y.shape"
   ]
  },
  {
   "cell_type": "code",
   "execution_count": 290,
   "metadata": {
    "collapsed": false
   },
   "outputs": [
    {
     "name": "stdout",
     "output_type": "stream",
     "text": [
      "Optimization terminated successfully.\n",
      "         Current function value: 0.323911\n",
      "         Iterations: 19\n",
      "         Function evaluations: 20\n",
      "         Gradient evaluations: 20\n",
      "CPU times: user 439 ms, sys: 5.27 ms, total: 445 ms\n",
      "Wall time: 441 ms\n"
     ]
    }
   ],
   "source": [
    "%%time\n",
    "optimizer = sco.fmin_bfgs(cost, x0=W, fprime=grad, args=(X,Y))"
   ]
  },
  {
   "cell_type": "code",
   "execution_count": 291,
   "metadata": {
    "collapsed": false
   },
   "outputs": [
    {
     "name": "stdout",
     "output_type": "stream",
     "text": [
      "[-1.13057636 -4.96453008 -1.17704681]\n"
     ]
    }
   ],
   "source": [
    "print optimizer"
   ]
  },
  {
   "cell_type": "code",
   "execution_count": 293,
   "metadata": {
    "collapsed": false
   },
   "outputs": [
    {
     "name": "stdout",
     "output_type": "stream",
     "text": [
      "Optimization terminated successfully.\n",
      "         Current function value: 0.323911\n",
      "         Iterations: 8\n",
      "         Function evaluations: 9\n",
      "         Gradient evaluations: 54\n",
      "         Hessian evaluations: 0\n",
      "CPU times: user 282 ms, sys: 6.19 ms, total: 289 ms\n",
      "Wall time: 284 ms\n"
     ]
    }
   ],
   "source": [
    "%%time\n",
    "optimizer = sco.fmin_ncg(cost, x0=W, fprime=grad, args=(X,Y))"
   ]
  },
  {
   "cell_type": "code",
   "execution_count": 294,
   "metadata": {
    "collapsed": false
   },
   "outputs": [
    {
     "name": "stdout",
     "output_type": "stream",
     "text": [
      "[-1.13057408 -4.96448731 -1.17702815]\n"
     ]
    }
   ],
   "source": [
    "print optimizer"
   ]
  },
  {
   "cell_type": "markdown",
   "metadata": {},
   "source": [
    "** c. Put It All Together **\n",
    "\n",
    "** Comments: BFGS seems to be more stable than Newton Conjugate-Gradient-Descent. **"
   ]
  },
  {
   "cell_type": "code",
   "execution_count": 722,
   "metadata": {
    "collapsed": true
   },
   "outputs": [],
   "source": [
    "import numpy as np\n",
    "import random\n",
    "from scipy.optimize import fmin_ncg, fmin_bfgs\n",
    "from copy import deepcopy"
   ]
  },
  {
   "cell_type": "code",
   "execution_count": 723,
   "metadata": {
    "collapsed": true
   },
   "outputs": [],
   "source": [
    "def train_test_split(data, train_perc=.8):\n",
    "    cutoff = int(len(data)*train_perc)\n",
    "    return data[:cutoff], data[cutoff:]"
   ]
  },
  {
   "cell_type": "code",
   "execution_count": 724,
   "metadata": {
    "collapsed": false
   },
   "outputs": [],
   "source": [
    "class LogisticRegression:\n",
    "    \n",
    "    def __init__(self, train, test, nepochs=1, batch_size=10):\n",
    "        self.train = deepcopy(train)\n",
    "        self.test = deepcopy(test)\n",
    "        self.config = {'nepochs':nepochs, 'batch_size':batch_size}\n",
    "        self.optimization = {'ncg':fmin_ncg, 'bfgs':fmin_bfgs}\n",
    "        self.means = np.apply_along_axis(lambda col:np.mean(col),0,X)\n",
    "        self.stds = np.apply_along_axis(lambda col:np.std(col),0,X)\n",
    "    \n",
    "    def _normalize(self, X):\n",
    "        return (X - self.means) / self.stds \n",
    "    \n",
    "    def _shuffle(self, X, Y, seed):\n",
    "        random.seed(seed)\n",
    "        random.shuffle(X)\n",
    "        random.seed(seed)\n",
    "        random.shuffle(Y)\n",
    "    \n",
    "    def _fx(self, W_i, X_i):\n",
    "        return 1 / (1 + np.exp(-np.dot(W_i,X_i)))\n",
    "    \n",
    "    def _log(self, Z_i):\n",
    "        return np.nan_to_num(np.log(Z_i))\n",
    "    \n",
    "    def _cost(self, W, X, Y):\n",
    "        return 1/len(X) * sum(- Y_i*log(fx(W,X_i)) - (1-Y_i)*log(1-fx(W,X_i))\n",
    "                              for X_i,Y_i in zip(X,Y))\n",
    "    \n",
    "    def _grad(self, W, X, Y):\n",
    "        return 1/len(X) * sum([ (fx(W,X_i)-Y_i)*X_i for X_i,Y_i in zip(X,Y) ])\n",
    "\n",
    "    def _predict(self, x):\n",
    "        pred = self._fx(self.W, x)\n",
    "        return 1 if pred>.5 else 0\n",
    "    \n",
    "    def fit(self, optimization='bfgs', lr=.01, max_iters=100, verbose=0):\n",
    "        optimize = self.optimization[optimization]\n",
    "        nepochs, batch_size = self.config['nepochs'], self.config['batch_size']\n",
    "        X, Y = self.train\n",
    "        X = self._normalize(X)\n",
    "        X = np.hstack((np.ones((len(X),1)), X)) # add bias.\n",
    "        W = np.random.random(X.shape[1])\n",
    "        num_iters = 0\n",
    "        for e in xrange(nepochs):\n",
    "            if e!=0 and e%10==0:\n",
    "                print \"... Epoch: %d\" % e\n",
    "            self._shuffle(X, Y, seed=random.randint(0,1000))\n",
    "            num_batches = int(np.ceil(len(X) / batch_size)) \n",
    "            for idx in xrange(num_batches):\n",
    "                disp = 1 if (idx==num_batches-1 and verbose==1) else 0 # only print out convergence msg on the last batch.\n",
    "                X_batch = X[idx*batch_size:(idx+1)*batch_size]\n",
    "                Y_batch = Y[idx*batch_size:(idx+1)*batch_size]\n",
    "                W = optimize(self._cost, x0=W, fprime=self._grad, epsilon=lr, \n",
    "                             args=(X_batch,Y_batch), maxiter=max_iters, disp=disp)\n",
    "            num_iters += len(X)\n",
    "        print \"Training Complete After %d Iterations\" % num_iters\n",
    "        print \"Cost: %.6f\" % self._cost(W, X, Y)\n",
    "        self.W = W \n",
    "    \n",
    "    def evaluate(self):\n",
    "        X, Y = self.test\n",
    "        X = self._normalize(X)\n",
    "        X = np.hstack((np.ones((len(X),1)), X)) # add bias.\n",
    "        W = self.W\n",
    "        num_cor = 0\n",
    "        for X_i,Y_i in zip(X,Y):\n",
    "            hat = self._predict(X_i)\n",
    "            num_cor += 1 if hat==Y_i else 0\n",
    "        print \"Accuracy: %.2f%%\" % (num_cor/len(X)*100)"
   ]
  },
  {
   "cell_type": "code",
   "execution_count": 725,
   "metadata": {
    "collapsed": false
   },
   "outputs": [],
   "source": [
    "X, Y = np.hstack((np.array(data['horsepower'])[:,np.newaxis],\n",
    "                  np.array(data['acceleration'])[:,np.newaxis])), \\\n",
    "       np.array(data['high_mpg'][:,np.newaxis])"
   ]
  },
  {
   "cell_type": "code",
   "execution_count": 726,
   "metadata": {
    "collapsed": false
   },
   "outputs": [],
   "source": [
    "(X_train, X_test), (Y_train, Y_test) = train_test_split(X), train_test_split(Y)"
   ]
  },
  {
   "cell_type": "code",
   "execution_count": 676,
   "metadata": {
    "collapsed": true
   },
   "outputs": [],
   "source": [
    "logreg = LogisticRegression(train=(X_train,Y_train), test=(X_test,Y_test), nepochs=100, batch_size=10)"
   ]
  },
  {
   "cell_type": "code",
   "execution_count": 677,
   "metadata": {
    "collapsed": false
   },
   "outputs": [
    {
     "name": "stdout",
     "output_type": "stream",
     "text": [
      "... Epoch: 10\n",
      "... Epoch: 20\n",
      "... Epoch: 30\n",
      "... Epoch: 40\n",
      "... Epoch: 50\n",
      "... Epoch: 60\n",
      "... Epoch: 70\n",
      "... Epoch: 80\n",
      "... Epoch: 90\n",
      "Training Complete After 31800 Iterations\n",
      "Cost: 0.000000\n"
     ]
    }
   ],
   "source": [
    "logreg.fit(verbose=0)"
   ]
  },
  {
   "cell_type": "code",
   "execution_count": 678,
   "metadata": {
    "collapsed": false
   },
   "outputs": [
    {
     "name": "stdout",
     "output_type": "stream",
     "text": [
      "Accuracy: 91.25%\n"
     ]
    }
   ],
   "source": [
    "logreg.evaluate()"
   ]
  },
  {
   "cell_type": "code",
   "execution_count": 727,
   "metadata": {
    "collapsed": true
   },
   "outputs": [],
   "source": [
    "logreg = LogisticRegression(train=(X_train,Y_train), test=(X_test,Y_test), nepochs=100, batch_size=len(X_train))"
   ]
  },
  {
   "cell_type": "code",
   "execution_count": 728,
   "metadata": {
    "collapsed": false
   },
   "outputs": [
    {
     "name": "stdout",
     "output_type": "stream",
     "text": [
      "... Epoch: 10\n",
      "... Epoch: 20\n",
      "... Epoch: 30\n",
      "... Epoch: 40\n",
      "... Epoch: 50\n",
      "... Epoch: 60\n",
      "... Epoch: 70\n",
      "... Epoch: 80\n",
      "... Epoch: 90\n",
      "Training Complete After 31800 Iterations\n",
      "Cost: 0.000004\n"
     ]
    }
   ],
   "source": [
    "logreg.fit(optimization='ncg', lr=.0001, verbose=0)"
   ]
  },
  {
   "cell_type": "code",
   "execution_count": 729,
   "metadata": {
    "collapsed": false
   },
   "outputs": [
    {
     "name": "stdout",
     "output_type": "stream",
     "text": [
      "Accuracy: 91.25%\n"
     ]
    }
   ],
   "source": [
    "logreg.evaluate()"
   ]
  },
  {
   "cell_type": "markdown",
   "metadata": {},
   "source": [
    "### C. MaxEnt Problem"
   ]
  },
  {
   "cell_type": "markdown",
   "metadata": {},
   "source": [
    "** a. Describing MaxEnt Problem **\n",
    "\n",
    "* **Optimization Goal**: Maximizing the data (i.e. MLE or MAP) under the Max Entropy Constraint.\n",
    "\n",
    "* **MaxEnt Constraint**: \n",
    "\n",
    "    * Model-Estimated Expectation of feature $f_j$: $E_pf_j = \\sum_{(c,d)\\in(C,D)}p(c,d)f_j(c,d)$.\n",
    "    \n",
    "    * Empirical Expectation of feature $f_j$: $E_{\\tilde{p}}f_j = \\sum_{(c,d)\\in(C,D)}\\tilde{p}(c,d)f_j(c,d)$.\n",
    "    \n",
    "    * $H(p) = \\sum_{(c,d)\\in(C,D)}p(c,d)logp(c,d)$ is the largest possible given $E_pf_j = E_{\\tilde{p}}f_j$."
   ]
  },
  {
   "cell_type": "markdown",
   "metadata": {},
   "source": [
    "** b. A Simple Demo of MaxEnt **"
   ]
  },
  {
   "cell_type": "code",
   "execution_count": 743,
   "metadata": {
    "collapsed": true
   },
   "outputs": [],
   "source": [
    "import pandas as pd\n",
    "import numpy as np"
   ]
  },
  {
   "cell_type": "code",
   "execution_count": 741,
   "metadata": {
    "collapsed": false
   },
   "outputs": [
    {
     "name": "stdout",
     "output_type": "stream",
     "text": [
      "Knowledge of p(A,B):\n"
     ]
    },
    {
     "data": {
      "text/html": [
       "<div>\n",
       "<table border=\"1\" class=\"dataframe\">\n",
       "  <thead>\n",
       "    <tr style=\"text-align: right;\">\n",
       "      <th></th>\n",
       "      <th>the</th>\n",
       "      <th>bird</th>\n",
       "    </tr>\n",
       "  </thead>\n",
       "  <tbody>\n",
       "    <tr>\n",
       "      <th>DET</th>\n",
       "      <td>0.4</td>\n",
       "      <td>-</td>\n",
       "    </tr>\n",
       "    <tr>\n",
       "      <th>NN</th>\n",
       "      <td>-</td>\n",
       "      <td>-</td>\n",
       "    </tr>\n",
       "  </tbody>\n",
       "</table>\n",
       "</div>"
      ],
      "text/plain": [
       "     the bird\n",
       "DET  0.4    -\n",
       "NN     -    -"
      ]
     },
     "execution_count": 741,
     "metadata": {},
     "output_type": "execute_result"
    }
   ],
   "source": [
    "A, B = ['DET','NN'], ['the','bird']\n",
    "print 'Knowledge of p(A,B):'\n",
    "pd.DataFrame([[.4,'-'],['-','-']],index=A,columns=B)"
   ]
  },
  {
   "cell_type": "code",
   "execution_count": 742,
   "metadata": {
    "collapsed": false
   },
   "outputs": [
    {
     "name": "stdout",
     "output_type": "stream",
     "text": [
      "Definition of f(A,B):\n",
      "f(a,b) = 1 if a=DET & b=the\n"
     ]
    },
    {
     "data": {
      "text/html": [
       "<div>\n",
       "<table border=\"1\" class=\"dataframe\">\n",
       "  <thead>\n",
       "    <tr style=\"text-align: right;\">\n",
       "      <th></th>\n",
       "      <th>the</th>\n",
       "      <th>bird</th>\n",
       "    </tr>\n",
       "  </thead>\n",
       "  <tbody>\n",
       "    <tr>\n",
       "      <th>DET</th>\n",
       "      <td>1</td>\n",
       "      <td>0</td>\n",
       "    </tr>\n",
       "    <tr>\n",
       "      <th>NN</th>\n",
       "      <td>0</td>\n",
       "      <td>0</td>\n",
       "    </tr>\n",
       "  </tbody>\n",
       "</table>\n",
       "</div>"
      ],
      "text/plain": [
       "     the  bird\n",
       "DET    1     0\n",
       "NN     0     0"
      ]
     },
     "execution_count": 742,
     "metadata": {},
     "output_type": "execute_result"
    }
   ],
   "source": [
    "print 'Definition of f(A,B):'\n",
    "print 'f(a,b) = 1 if a=DET & b=the'\n",
    "pd.DataFrame([[1,0],[0,0]],index=A,columns=B)"
   ]
  },
  {
   "cell_type": "markdown",
   "metadata": {},
   "source": [
    "Entropy: $H = -\\sum_{a,b}p(a,b)logp(a,b)$"
   ]
  },
  {
   "cell_type": "code",
   "execution_count": 780,
   "metadata": {
    "collapsed": false
   },
   "outputs": [
    {
     "name": "stdout",
     "output_type": "stream",
     "text": [
      "p(A,B) that gives Max Entropy:\n"
     ]
    },
    {
     "data": {
      "text/html": [
       "<div>\n",
       "<table border=\"1\" class=\"dataframe\">\n",
       "  <thead>\n",
       "    <tr style=\"text-align: right;\">\n",
       "      <th></th>\n",
       "      <th>the</th>\n",
       "      <th>bird</th>\n",
       "    </tr>\n",
       "  </thead>\n",
       "  <tbody>\n",
       "    <tr>\n",
       "      <th>DET</th>\n",
       "      <td>0.4</td>\n",
       "      <td>0.2</td>\n",
       "    </tr>\n",
       "    <tr>\n",
       "      <th>NN</th>\n",
       "      <td>0.2</td>\n",
       "      <td>0.2</td>\n",
       "    </tr>\n",
       "  </tbody>\n",
       "</table>\n",
       "</div>"
      ],
      "text/plain": [
       "     the  bird\n",
       "DET  0.4   0.2\n",
       "NN   0.2   0.2"
      ]
     },
     "execution_count": 780,
     "metadata": {},
     "output_type": "execute_result"
    }
   ],
   "source": [
    "print 'p(A,B) that gives Max Entropy:'\n",
    "pd.DataFrame([[.4,.2],[.2,.2]],index=A,columns=B)"
   ]
  },
  {
   "cell_type": "code",
   "execution_count": 781,
   "metadata": {
    "collapsed": false
   },
   "outputs": [
    {
     "name": "stdout",
     "output_type": "stream",
     "text": [
      "Randomly Sample 10 Possible Values for Unknown p(a,b):\n",
      "[[ 0.2539729   0.32469167  0.02133543]\n",
      " [ 0.20553456  0.24412556  0.15033987]\n",
      " [ 0.49961698  0.06138116  0.03900186]\n",
      " [ 0.12404195  0.01180076  0.46415728]\n",
      " [ 0.27031484  0.16571123  0.16397393]\n",
      " [ 0.30007187  0.21992499  0.08000314]\n",
      " [ 0.20674412  0.09825032  0.29500556]\n",
      " [ 0.45689111  0.02273314  0.12037575]\n",
      " [ 0.47296001  0.00910585  0.11793414]\n",
      " [ 0.12650317  0.03972152  0.43377531]]\n",
      "\n",
      "Respective H(p) given E_p-hat = E_p:\n",
      "1.16191776417\n",
      "1.32080825026\n",
      "1.01102847117\n",
      "1.03405469408\n",
      "1.31447356316\n",
      "1.26285539083\n",
      "1.28049685551\n",
      "1.0652763862\n",
      "1.01552880968\n",
      "1.11849777122\n",
      "\n",
      "Max H(p) by Inspection: Other p(a,b) Uniform, i.e. p(a,b) = .2\n",
      "1.33217904021\n"
     ]
    }
   ],
   "source": [
    "print 'Randomly Sample 10 Possible Values for Unknown p(a,b):'\n",
    "samples = np.random.dirichlet((1,1,1),10) * .6\n",
    "print samples\n",
    "print\n",
    "print \"Respective H(p) given E_p-hat = E_p:\"\n",
    "for i in xrange(10):\n",
    "    H = - .4*np.log(.4) - sum(p_i*np.log(p_i) for p_i in samples[i])\n",
    "    print H\n",
    "print\n",
    "print 'Max H(p) by Inspection: Other p(a,b) Uniform, i.e. p(a,b) = .2'\n",
    "print - .4*np.log(.4) - 3*(.2*np.log(.2))"
   ]
  },
  {
   "cell_type": "markdown",
   "metadata": {},
   "source": [
    "** c. MaxEnt Model in Practice **\n",
    "\n",
    "* **Optimization**:\n",
    "\n",
    "    * *Generalized Iterative Scaling (GIS)* (Darroch & Ratcliff 1972)\n",
    "    \n",
    "    * *Improved Iterative Scaling (IIS)* (Berger 1997)\n",
    "    \n",
    "    * *Limited-Memory Broyden–Fletcher–Goldfarb–Shanno (L-BFGS)*: (Perry 1977; Shanno 1978b)\n",
    "\n",
    "* **Example**:\n",
    "\n",
    "    * Gender classifier with names as input.\n",
    "\n",
    "* **Comments**: \n",
    "\n",
    "    * With three algorithms produce similar accuracy performance, L-BFGS is not only much much faster, it also doesn't take a ton of memory to do its thing."
   ]
  },
  {
   "cell_type": "code",
   "execution_count": 783,
   "metadata": {
    "collapsed": true
   },
   "outputs": [],
   "source": [
    "import random\n",
    "import numpy as np\n",
    "from nltk import MaxentClassifier\n",
    "from nltk.corpus import names"
   ]
  },
  {
   "cell_type": "code",
   "execution_count": 784,
   "metadata": {
    "collapsed": false
   },
   "outputs": [
    {
     "name": "stdout",
     "output_type": "stream",
     "text": [
      "[(u'Franklin', 'male'), (u'Robinet', 'female'), (u'Alvin', 'male'), (u'Rowena', 'female'), (u'Marijo', 'female')]\n"
     ]
    }
   ],
   "source": [
    "names = [(name,'male') for name in names.words('male.txt')] + [(name,'female') for name in names.words('female.txt')]\n",
    "random.shuffle(names)\n",
    "print names[:5]"
   ]
  },
  {
   "cell_type": "code",
   "execution_count": 785,
   "metadata": {
    "collapsed": false
   },
   "outputs": [
    {
     "name": "stdout",
     "output_type": "stream",
     "text": [
      "Example: generated feature set for word 'Gary':\n",
      "{'count(u)': 0, 'has(d)': False, 'count(b)': 0, 'count(w)': 0, 'has(b)': False, 'count(l)': 0, 'count(q)': 0, 'count(n)': 0, 'has(j)': False, 'count(s)': 0, 'count(h)': 0, 'has(h)': False, 'has(y)': True, 'count(j)': 0, 'has(f)': False, 'has(o)': False, 'count(x)': 0, 'has(m)': False, 'count(z)': 0, 'has(k)': False, 'has(u)': False, 'count(d)': 0, 'has(s)': False, 'count(f)': 0, 'lastletter': 'y', 'has(q)': False, 'has(w)': False, 'has(e)': False, 'has(z)': False, 'count(t)': 0, 'count(c)': 0, 'has(c)': False, 'has(x)': False, 'count(v)': 0, 'count(m)': 0, 'has(a)': True, 'has(v)': False, 'count(p)': 0, 'count(o)': 0, 'has(i)': False, 'count(i)': 0, 'has(r)': True, 'has(g)': True, 'count(k)': 0, 'firstletter': 'g', 'count(y)': 1, 'has(n)': False, 'has(l)': False, 'count(e)': 0, 'has(t)': False, 'count(g)': 1, 'count(r)': 1, 'count(a)': 1, 'has(p)': False}\n"
     ]
    }
   ],
   "source": [
    "# DEFINING FEATURES\n",
    "def gender_features(name):\n",
    "    features = {}\n",
    "    features[\"firstletter\"] = name[0].lower()\n",
    "    features[\"lastletter\"] = name[-1].lower()\n",
    "    for letter in 'abcdefghijklmnopqrstuvwxyz':\n",
    "        features[\"count(%s)\" % letter] = name.lower().count(letter)\n",
    "        features[\"has(%s)\" % letter] = (letter in name.lower())\n",
    "    return features\n",
    "print \"Example: generated feature set for word 'Gary':\"\n",
    "print gender_features('Gary')"
   ]
  },
  {
   "cell_type": "code",
   "execution_count": 822,
   "metadata": {
    "collapsed": true
   },
   "outputs": [],
   "source": [
    "# GENERATE TRAINING & TESTING\n",
    "featuresets = [(gender_features(name), gender) for (name, gender) in names]\n",
    "split = len(featuresets)*.8 # train=6355; test=1589 (total=7944).\n",
    "train, test = featuresets[:int(split)], featuresets[int(split):]"
   ]
  },
  {
   "cell_type": "code",
   "execution_count": 823,
   "metadata": {
    "collapsed": false
   },
   "outputs": [
    {
     "name": "stdout",
     "output_type": "stream",
     "text": [
      "  ==> Training (100 iterations)\n",
      "\n",
      "      Iteration    Log Likelihood    Accuracy\n",
      "      ---------------------------------------\n",
      "             1          -0.69315        0.372\n",
      "             2          -0.61465        0.628\n",
      "             3          -0.59944        0.628\n",
      "             4          -0.58604        0.628\n",
      "             5          -0.57346        0.634\n",
      "             6          -0.56165        0.651\n",
      "             7          -0.55056        0.673\n",
      "             8          -0.54016        0.690\n",
      "             9          -0.53039        0.708\n",
      "            10          -0.52123        0.717\n",
      "            11          -0.51262        0.728\n",
      "            12          -0.50454        0.735\n",
      "            13          -0.49693        0.743\n",
      "            14          -0.48976        0.751\n",
      "            15          -0.48301        0.756\n",
      "            16          -0.47664        0.759\n",
      "            17          -0.47063        0.763\n",
      "            18          -0.46494        0.767\n",
      "            19          -0.45956        0.771\n",
      "            20          -0.45446        0.774\n",
      "            21          -0.44963        0.774\n",
      "            22          -0.44504        0.775\n",
      "            23          -0.44068        0.776\n",
      "            24          -0.43653        0.777\n",
      "            25          -0.43259        0.779\n",
      "            26          -0.42883        0.781\n",
      "            27          -0.42524        0.783\n",
      "            28          -0.42182        0.785\n",
      "            29          -0.41855        0.786\n",
      "            30          -0.41542        0.786\n",
      "            31          -0.41243        0.786\n",
      "            32          -0.40957        0.786\n",
      "            33          -0.40683        0.787\n",
      "            34          -0.40420        0.788\n",
      "            35          -0.40168        0.789\n",
      "            36          -0.39926        0.789\n",
      "            37          -0.39693        0.790\n",
      "            38          -0.39469        0.791\n",
      "            39          -0.39255        0.792\n",
      "            40          -0.39048        0.793\n",
      "            41          -0.38849        0.793\n",
      "            42          -0.38657        0.792\n",
      "            43          -0.38472        0.792\n",
      "            44          -0.38294        0.792\n",
      "            45          -0.38122        0.792\n",
      "            46          -0.37956        0.793\n",
      "            47          -0.37796        0.793\n",
      "            48          -0.37641        0.793\n",
      "            49          -0.37491        0.792\n",
      "            50          -0.37347        0.793\n",
      "            51          -0.37207        0.794\n",
      "            52          -0.37071        0.794\n",
      "            53          -0.36940        0.795\n",
      "            54          -0.36813        0.795\n",
      "            55          -0.36690        0.795\n",
      "            56          -0.36571        0.796\n",
      "            57          -0.36456        0.796\n",
      "            58          -0.36344        0.796\n",
      "            59          -0.36235        0.797\n",
      "            60          -0.36129        0.797\n",
      "            61          -0.36027        0.798\n",
      "            62          -0.35927        0.798\n",
      "            63          -0.35831        0.798\n",
      "            64          -0.35737        0.798\n",
      "            65          -0.35646        0.799\n",
      "            66          -0.35557        0.799\n",
      "            67          -0.35471        0.799\n",
      "            68          -0.35387        0.799\n",
      "            69          -0.35305        0.799\n",
      "            70          -0.35226        0.799\n",
      "            71          -0.35148        0.800\n",
      "            72          -0.35073        0.800\n",
      "            73          -0.34999        0.800\n",
      "            74          -0.34928        0.800\n",
      "            75          -0.34858        0.799\n",
      "            76          -0.34790        0.799\n",
      "            77          -0.34724        0.799\n",
      "            78          -0.34659        0.799\n",
      "            79          -0.34596        0.799\n",
      "            80          -0.34535        0.799\n",
      "            81          -0.34475        0.798\n",
      "            82          -0.34416        0.798\n",
      "            83          -0.34359        0.798\n",
      "            84          -0.34303        0.798\n",
      "            85          -0.34248        0.799\n",
      "            86          -0.34195        0.799\n",
      "            87          -0.34143        0.799\n",
      "            88          -0.34092        0.799\n",
      "            89          -0.34042        0.799\n",
      "            90          -0.33994        0.800\n",
      "            91          -0.33946        0.800\n",
      "            92          -0.33899        0.801\n",
      "            93          -0.33854        0.801\n",
      "            94          -0.33809        0.801\n",
      "            95          -0.33766        0.800\n",
      "            96          -0.33723        0.801\n",
      "            97          -0.33681        0.800\n",
      "            98          -0.33641        0.801\n",
      "            99          -0.33600        0.801\n",
      "         Final          -0.33561        0.801\n",
      "CPU times: user 6min 52s, sys: 918 ms, total: 6min 52s\n",
      "Wall time: 6min 52s\n"
     ]
    }
   ],
   "source": [
    "%%time\n",
    "me_gis = MaxentClassifier.train(train, algorithm='GIS', trace=3, max_iter=100)"
   ]
  },
  {
   "cell_type": "code",
   "execution_count": 828,
   "metadata": {
    "collapsed": false
   },
   "outputs": [
    {
     "name": "stdout",
     "output_type": "stream",
     "text": [
      "  ==> Training (100 iterations)\n",
      "\n",
      "      Iteration    Log Likelihood    Accuracy\n",
      "      ---------------------------------------\n",
      "             1          -0.69315        0.372\n",
      "             2          -0.61334        0.628\n",
      "             3          -0.59890        0.628\n",
      "             4          -0.58530        0.629\n",
      "             5          -0.57254        0.635\n",
      "             6          -0.56057        0.653\n",
      "             7          -0.54934        0.675\n",
      "             8          -0.53882        0.692\n",
      "             9          -0.52897        0.709\n",
      "            10          -0.51972        0.718\n",
      "            11          -0.51105        0.730\n",
      "            12          -0.50291        0.737\n",
      "            13          -0.49526        0.745\n",
      "            14          -0.48807        0.753\n",
      "            15          -0.48129        0.757\n",
      "            16          -0.47490        0.760\n",
      "            17          -0.46888        0.764\n",
      "            18          -0.46318        0.768\n",
      "            19          -0.45780        0.772\n",
      "            20          -0.45270        0.774\n",
      "            21          -0.44787        0.775\n",
      "            22          -0.44329        0.775\n",
      "            23          -0.43893        0.777\n",
      "            24          -0.43480        0.778\n",
      "            25          -0.43086        0.780\n",
      "            26          -0.42711        0.782\n",
      "            27          -0.42354        0.784\n",
      "            28          -0.42013        0.785\n",
      "            29          -0.41688        0.786\n",
      "            30          -0.41377        0.786\n",
      "            31          -0.41080        0.786\n",
      "            32          -0.40795        0.787\n",
      "            33          -0.40523        0.788\n",
      "            34          -0.40262        0.788\n",
      "            35          -0.40012        0.789\n",
      "            36          -0.39771        0.790\n",
      "            37          -0.39541        0.791\n",
      "            38          -0.39319        0.792\n",
      "            39          -0.39106        0.792\n",
      "            40          -0.38901        0.793\n",
      "            41          -0.38704        0.792\n",
      "            42          -0.38514        0.792\n",
      "            43          -0.38331        0.792\n",
      "            44          -0.38155        0.792\n",
      "            45          -0.37984        0.792\n",
      "            46          -0.37820        0.793\n",
      "            47          -0.37662        0.793\n",
      "            48          -0.37509        0.792\n",
      "            49          -0.37361        0.793\n",
      "            50          -0.37218        0.794\n",
      "            51          -0.37080        0.794\n",
      "            52          -0.36946        0.795\n",
      "            53          -0.36816        0.795\n",
      "            54          -0.36691        0.795\n",
      "            55          -0.36570        0.796\n",
      "            56          -0.36452        0.796\n",
      "            57          -0.36338        0.796\n",
      "            58          -0.36228        0.797\n",
      "            59          -0.36120        0.797\n",
      "            60          -0.36016        0.798\n",
      "            61          -0.35915        0.798\n",
      "            62          -0.35817        0.798\n",
      "            63          -0.35722        0.798\n",
      "            64          -0.35630        0.798\n",
      "            65          -0.35540        0.799\n",
      "            66          -0.35452        0.799\n",
      "            67          -0.35367        0.799\n",
      "            68          -0.35285        0.799\n",
      "            69          -0.35204        0.799\n",
      "            70          -0.35126        0.800\n",
      "            71          -0.35050        0.800\n",
      "            72          -0.34976        0.800\n",
      "            73          -0.34904        0.800\n",
      "            74          -0.34833        0.799\n",
      "            75          -0.34765        0.799\n",
      "            76          -0.34698        0.799\n",
      "            77          -0.34633        0.799\n",
      "            78          -0.34569        0.798\n",
      "            79          -0.34507        0.799\n",
      "            80          -0.34447        0.798\n",
      "            81          -0.34388        0.798\n",
      "            82          -0.34330        0.798\n",
      "            83          -0.34274        0.799\n",
      "            84          -0.34219        0.799\n",
      "            85          -0.34165        0.799\n",
      "            86          -0.34113        0.799\n",
      "            87          -0.34062        0.799\n",
      "            88          -0.34012        0.800\n",
      "            89          -0.33963        0.800\n",
      "            90          -0.33915        0.801\n",
      "            91          -0.33869        0.801\n",
      "            92          -0.33823        0.801\n",
      "            93          -0.33778        0.801\n",
      "            94          -0.33735        0.800\n",
      "            95          -0.33692        0.800\n",
      "            96          -0.33650        0.800\n",
      "            97          -0.33609        0.801\n",
      "            98          -0.33569        0.801\n",
      "            99          -0.33530        0.801\n",
      "         Final          -0.33491        0.801\n",
      "CPU times: user 7min 21s, sys: 1.74 s, total: 7min 23s\n",
      "Wall time: 7min 23s\n"
     ]
    }
   ],
   "source": [
    "%%time\n",
    "me_iis = MaxentClassifier.train(train, algorithm='IIS', trace=3, max_iter=100)"
   ]
  },
  {
   "cell_type": "code",
   "execution_count": 834,
   "metadata": {
    "collapsed": false
   },
   "outputs": [
    {
     "name": "stdout",
     "output_type": "stream",
     "text": [
      "GIS: 80.24%\n",
      "IIS: 80.18%\n"
     ]
    }
   ],
   "source": [
    "print \"GIS: %.2f%%\" % (classify.accuracy(me_gis,test)*100)\n",
    "print \"IIS: %.2f%%\" % (classify.accuracy(me_iis,test)*100)"
   ]
  },
  {
   "cell_type": "code",
   "execution_count": 831,
   "metadata": {
    "collapsed": false
   },
   "outputs": [
    {
     "name": "stdout",
     "output_type": "stream",
     "text": [
      "CPU times: user 1.01 s, sys: 22.8 ms, total: 1.03 s\n",
      "Wall time: 4.17 s\n"
     ]
    }
   ],
   "source": [
    "%%time\n",
    "me_lbfgs = MaxentClassifier.train(train, algorithm='megam', trace=3, max_iter=100)"
   ]
  },
  {
   "cell_type": "code",
   "execution_count": 835,
   "metadata": {
    "collapsed": false
   },
   "outputs": [
    {
     "name": "stdout",
     "output_type": "stream",
     "text": [
      "L-BFGS: 80.87%\n"
     ]
    }
   ],
   "source": [
    "print \"L-BFGS: %.2f%%\" % (classify.accuracy(me_lbfgs,test)*100)"
   ]
  },
  {
   "cell_type": "code",
   "execution_count": 872,
   "metadata": {
    "collapsed": false
   },
   "outputs": [
    {
     "data": {
      "text/plain": [
       "({'count(a)': 1,\n",
       "  'count(b)': 0,\n",
       "  'count(c)': 0,\n",
       "  'count(d)': 0,\n",
       "  'count(e)': 0,\n",
       "  'count(f)': 1,\n",
       "  'count(g)': 0,\n",
       "  'count(h)': 0,\n",
       "  'count(i)': 1,\n",
       "  'count(j)': 0,\n",
       "  'count(k)': 1,\n",
       "  'count(l)': 1,\n",
       "  'count(m)': 0,\n",
       "  'count(n)': 2,\n",
       "  'count(o)': 0,\n",
       "  'count(p)': 0,\n",
       "  'count(q)': 0,\n",
       "  'count(r)': 1,\n",
       "  'count(s)': 0,\n",
       "  'count(t)': 0,\n",
       "  'count(u)': 0,\n",
       "  'count(v)': 0,\n",
       "  'count(w)': 0,\n",
       "  'count(x)': 0,\n",
       "  'count(y)': 0,\n",
       "  'count(z)': 0,\n",
       "  'firstletter': u'f',\n",
       "  'has(a)': True,\n",
       "  'has(b)': False,\n",
       "  'has(c)': False,\n",
       "  'has(d)': False,\n",
       "  'has(e)': False,\n",
       "  'has(f)': True,\n",
       "  'has(g)': False,\n",
       "  'has(h)': False,\n",
       "  'has(i)': True,\n",
       "  'has(j)': False,\n",
       "  'has(k)': True,\n",
       "  'has(l)': True,\n",
       "  'has(m)': False,\n",
       "  'has(n)': True,\n",
       "  'has(o)': False,\n",
       "  'has(p)': False,\n",
       "  'has(q)': False,\n",
       "  'has(r)': True,\n",
       "  'has(s)': False,\n",
       "  'has(t)': False,\n",
       "  'has(u)': False,\n",
       "  'has(v)': False,\n",
       "  'has(w)': False,\n",
       "  'has(x)': False,\n",
       "  'has(y)': False,\n",
       "  'has(z)': False,\n",
       "  'lastletter': u'n'},\n",
       " 'male')"
      ]
     },
     "execution_count": 872,
     "metadata": {},
     "output_type": "execute_result"
    }
   ],
   "source": [
    "featuresets[0]"
   ]
  },
  {
   "cell_type": "code",
   "execution_count": 848,
   "metadata": {
    "collapsed": false
   },
   "outputs": [],
   "source": [
    "t = me_lbfgs.prob_classify(gender_features('John'))"
   ]
  },
  {
   "cell_type": "code",
   "execution_count": 843,
   "metadata": {
    "collapsed": false
   },
   "outputs": [
    {
     "data": {
      "text/plain": [
       "'male'"
      ]
     },
     "execution_count": 843,
     "metadata": {},
     "output_type": "execute_result"
    }
   ],
   "source": [
    "me_lbfgs.classify(gender_features('John'))"
   ]
  },
  {
   "cell_type": "code",
   "execution_count": 867,
   "metadata": {
    "collapsed": false
   },
   "outputs": [
    {
     "data": {
      "text/plain": [
       "0.70178714993630598"
      ]
     },
     "execution_count": 867,
     "metadata": {},
     "output_type": "execute_result"
    }
   ],
   "source": [
    "t.prob('male')"
   ]
  },
  {
   "cell_type": "code",
   "execution_count": null,
   "metadata": {
    "collapsed": true
   },
   "outputs": [],
   "source": []
  },
  {
   "cell_type": "code",
   "execution_count": null,
   "metadata": {
    "collapsed": true
   },
   "outputs": [],
   "source": []
  },
  {
   "cell_type": "code",
   "execution_count": null,
   "metadata": {
    "collapsed": true
   },
   "outputs": [],
   "source": []
  },
  {
   "cell_type": "code",
   "execution_count": null,
   "metadata": {
    "collapsed": true
   },
   "outputs": [],
   "source": []
  },
  {
   "cell_type": "code",
   "execution_count": null,
   "metadata": {
    "collapsed": true
   },
   "outputs": [],
   "source": []
  },
  {
   "cell_type": "code",
   "execution_count": null,
   "metadata": {
    "collapsed": true
   },
   "outputs": [],
   "source": []
  },
  {
   "cell_type": "code",
   "execution_count": null,
   "metadata": {
    "collapsed": true
   },
   "outputs": [],
   "source": []
  },
  {
   "cell_type": "markdown",
   "metadata": {},
   "source": [
    "# MaxEnt Markov Model"
   ]
  },
  {
   "cell_type": "markdown",
   "metadata": {},
   "source": [
    "### A. Concept"
   ]
  },
  {
   "cell_type": "markdown",
   "metadata": {},
   "source": [
    "** a. HMM vs. MEMM: Generative vs. Discriminative **\n",
    "\n",
    "* **Common Goal**: Given an observation $W$ (e.g. a word), what is the class $T$ of the observation (e.g. a POS tag)?\n",
    "\n",
    "\n",
    "* **Generative Method (HMM)**: (cf. J&M ch6.8:37-8,eq.6.95)\n",
    "\n",
    "    * $\\hat{T} = argmax_TP(T|W) = argmax_TP(W|T)P(T) = argmax_T\\prod_iP(word_i|tag_i)\\prod_iP(tag_i|tag_{i-1})$.\n",
    "    \n",
    "\n",
    "* **Discriminative Method (MEMM)**: (cf. ibid.,eq.6.96)\n",
    "\n",
    "    * $\\hat{T} = argmax_TP(T|W) = argmax_T\\prod_iP(tag_i|word_i,tag_{i-1})$."
   ]
  },
  {
   "cell_type": "code",
   "execution_count": 837,
   "metadata": {
    "collapsed": false
   },
   "outputs": [
    {
     "data": {
      "image/png": "[encoded data removed]",
      "text/plain": [
       "<IPython.core.display.Image object>"
      ]
     },
     "metadata": {
      "image/png": {
       "width": "50%"
      }
     },
     "output_type": "display_data"
    }
   ],
   "source": [
    "from IPython.display import Image, display\n",
    "display(Image(filename='/Users/jacobsw/Desktop/IMPLEMENTATION_CAMP/CODE/BASIC_TOPICS/NLP/FIGS/hmm_memm.png',width='50%'))"
   ]
  },
  {
   "cell_type": "markdown",
   "metadata": {},
   "source": [
    "** b. MEMM w/ Viterbi**\n",
    "\n",
    "* **HMM Viterbi**: \n",
    "\n",
    "    * Update: \n",
    "        * Probability Expression: $v_t(j) = max_{i=1}^Nv_{t-1}(i)P(s_j|s_i)P(o_t|s_j)$ for $1\\leq j\\leq N, 1\\leq t\\leq T$.\n",
    "        * Implementation Expression: $v_t(j) = max_{i=1}^Nv_{t-1}(i)a_{ij}b_j(o_t)$ for $1\\leq j\\leq N, 1\\leq t\\leq T$.\n",
    "    \n",
    "    * Notation: \n",
    "        * $v_t(j)$: a cell's probability in Viterbi matrix at time $t$ and state $j$. \n",
    "        * $a_{ij}$: transition probability from state $i$ to state $j$.\n",
    "        * $b_j(o_t)$: emission probability at state $j$ and time $t$.\n",
    "        \n",
    "\n",
    "* **MEMM Viterbi**:\n",
    "\n",
    "    * Update:\n",
    "        * Probability Expression: $v_t(j) = max_{i=1}^Nv_{t-1}(i)P(s_j|s_i,o_t)$ for $1\\leq j\\leq N, 1\\leq t\\leq T$.\n",
    "        * Implementation Expression: $v_t(j) = max_{i=1}^Nv_{t-1}(i)maxent(s_j|f_j)$ for $1\\leq j\\leq N, 1\\leq t\\leq T$.\n",
    "        \n",
    "    * Notation: \n",
    "        * $maxent(s_j|f_j)$: the probability of state $s_j$ given feature set $f_j$ of $s_j$ according to a MaxEnt Classifier, which can be anything (e.g. the words 2 words away)."
   ]
  },
  {
   "cell_type": "markdown",
   "metadata": {},
   "source": [
    "### B. Supervised MEMM\n",
    "\n",
    "** Setup **\n",
    "\n",
    "* Data: Brown Corpus (subset size=5000).\n",
    "* Task: POS-Tagging.\n",
    "* Decoder: Viterbi.\n",
    "* Subclassifier: MaxEnt (L-BFGS).\n",
    "\n",
    "**NB**: \n",
    "\n",
    "* Presented as a demo, the number of features is small and randomly picked out of whim, therefore the performance is acceptable as long as it's higher than random guess (i.e. 1/size of tagset = 7%).\n",
    "\n",
    "* For an unsupervised version, one only needs to integrate Forward-Backward Algorithm into the current code. This is omitted here since there is already a full demo of the method (cf. J&M_03:EM Algorithm)."
   ]
  },
  {
   "cell_type": "code",
   "execution_count": 876,
   "metadata": {
    "collapsed": true
   },
   "outputs": [],
   "source": [
    "def load_brown(): # importing tagged brown.\n",
    "    from nltk.corpus import brown\n",
    "    print \"... loading sentences\"\n",
    "    brown_tagged_sents = brown.tagged_sents(tagset='universal')\n",
    "    print \"... padding sentences\"\n",
    "    brown_tagged_sents = [[('<s>','START')]+s+[('</s>','END')] for s in brown_tagged_sents]\n",
    "    print \"... formatting into ([w,..],[t,..])\"\n",
    "    brown_tagged_sents = [ ([w for w,t in sent],[t for w,t in sent]) for sent in brown_tagged_sents ]\n",
    "    \n",
    "    return brown_tagged_sents # train,test: two lists of sents."
   ]
  },
  {
   "cell_type": "code",
   "execution_count": 982,
   "metadata": {
    "collapsed": false
   },
   "outputs": [
    {
     "name": "stdout",
     "output_type": "stream",
     "text": [
      "... loading sentences\n",
      "... padding sentences\n",
      "... formatting into ([w,..],[t,..])\n",
      "CPU times: user 5.41 s, sys: 126 ms, total: 5.53 s\n",
      "Wall time: 5.53 s\n"
     ]
    }
   ],
   "source": [
    "%%time\n",
    "brown_tagged_sents = load_brown()[:5000]"
   ]
  },
  {
   "cell_type": "code",
   "execution_count": 983,
   "metadata": {
    "collapsed": true
   },
   "outputs": [],
   "source": [
    "import random\n",
    "import numpy as np\n",
    "from __future__ import division\n",
    "from nltk import MaxentClassifier"
   ]
  },
  {
   "cell_type": "code",
   "execution_count": 984,
   "metadata": {
    "collapsed": false
   },
   "outputs": [],
   "source": [
    "class MEMM: \n",
    "    \n",
    "    def __init__(self, data, split=.8, max_iter=100, verbose_freq=100): # tagged_train/test are passed.\n",
    "        print \"... extracting info & featurizing data\"\n",
    "        tagset = list({t for (words,tags) in data for t in tags})\n",
    "        self.i2t = {i:t for i,t in enumerate(tagset)}\n",
    "        self.t2i = {t:i for i,t in self.i2t.iteritems()}\n",
    "        featurized = [[( self.featurize(i,self.get_prev_tag(i,tagged_sent),tagged_sent[0]),\n",
    "                         tagged_sent[1][i] ) \n",
    "                       for i in xrange(len(tagged_sent[0]))] \n",
    "                      for tagged_sent in data]\n",
    "        split = int(len(data)*split)\n",
    "        self.train = featurized[:split]\n",
    "        self.test = data[split:] # test set is going to be evaluated by viterbi, not maxent, no featurization.\n",
    "        print \"... building subclassifier\"\n",
    "        self.fit(max_iter, verbose_freq)\n",
    "\n",
    "    def get_prev_tag(self, i, tagged_sent):\n",
    "        return tagged_sent[0][i-1] if i!=0 else '<B>'        \n",
    "        \n",
    "    def featurize(self, w_idx, prev_tag, sent): \n",
    "        o = sent[w_idx]\n",
    "        features = {}\n",
    "        # 'self' features\n",
    "        features['word'] = o\n",
    "        features['sfx0'] = int(o.endswith('ing')) # T/F -> 1/0 conversion.\n",
    "        features['sfx1'] = int(o.endswith('ly'))\n",
    "        features['sfx2'] = int(o.endswith('ion'))\n",
    "        features['sfx3'] = int(o.endswith('s') or o.endswith('es'))\n",
    "        features['sfx4'] = int(o.endswith('ble'))\n",
    "        features['pfx0'] = int(o.startswith('con'))\n",
    "        features['pfx1'] = int(o.startswith('de'))\n",
    "        features['pfx2'] = int(o.startswith('un'))\n",
    "        features['pfx3'] = int(o.startswith('in'))\n",
    "        features['cap'] = int(o.istitle())\n",
    "        features['dgt'] = int(o.isdigit())\n",
    "        # 'context' features\n",
    "        features['prev_w'] = sent[w_idx-1] if w_idx!=0 else '<b>'\n",
    "        features['next_w'] = sent[w_idx+1] if w_idx!=len(sent)-1 else '</b>'\n",
    "        features['prev_tag'] = prev_tag\n",
    "        return features\n",
    "    \n",
    "    def fit(self, max_iter, verbose_freq):\n",
    "        maxent = MaxentClassifier\n",
    "        for i in xrange(len(self.train)):\n",
    "            if i!=0 and i%verbose_freq==0:\n",
    "                print \"    ... trained %d sentences\" % i\n",
    "            maxent = maxent.train(self.train[i], algorithm='megam', trace=3, max_iter=max_iter)\n",
    "        self.maxent = maxent\n",
    "        self.prob = lambda s,f_idx,prev_tag,sent: \\\n",
    "                    self.maxent.prob_classify(self.featurize(f_idx,prev_tag,sent)).prob(self.i2t[s])\n",
    "\n",
    "    def viterbi(self, sent):\n",
    "        N, T = len(self.i2t), len(sent)\n",
    "        viterbi = np.zeros((N,T))\n",
    "        backpointer = np.zeros((N,T),dtype=int)\n",
    "        for s in xrange(N):\n",
    "            viterbi[s][1] = self.prob(s,1,'START',sent)\n",
    "            backpointer[s][1] = 0\n",
    "        for t in xrange(2,T):\n",
    "            for s in xrange(N):\n",
    "                viterbi[s][t] = max(viterbi[s_prime][t-1] * self.prob(s,t,self.i2t[s_prime],sent) \n",
    "                                    for s_prime in xrange(N))\n",
    "                backpointer[s][t] = np.argmax([viterbi[s_prime][t-1] * self.prob(s,t,self.i2t[s_prime],sent) \n",
    "                                               for s_prime in xrange(N)])\n",
    "        max_state = self.t2i['END']\n",
    "            # max_state = np.argmax(viterbi[:,-1])\n",
    "        best_tagged_seq = []\n",
    "        for t in reversed(xrange(0,T)):\n",
    "            best_tagged_seq.insert(0, (sent[t],self.i2t[max_state]))\n",
    "            max_state = backpointer[max_state][t]\n",
    "        return best_tagged_seq\n",
    "    \n",
    "    def evaluate(self, sample_size=100, verbose_freq=10):\n",
    "        samples = random.sample(self.test,sample_size)\n",
    "        accuracies = []\n",
    "        for i,sample in enumerate(samples): # sample: ([w,..],[t,..]).\n",
    "            if i!=0 and i%verbose_freq==0:\n",
    "                print \"... evaluated %d sentences\" % i\n",
    "            true = zip(sample[0],sample[1]) # [(w,t),..].\n",
    "            pred = self.predict(sample[0]) # predict on sent.\n",
    "            correct = sum(pred_i==true_i for pred_i,true_i in zip(pred,true))\n",
    "            accuracies.append(correct/len(true))\n",
    "        print \"Accuracy (%d samples): %.2f%%\" % (sample_size,np.mean(accuracies)*100) \n",
    "    \n",
    "    def predict(self, sent):\n",
    "        if type(sent)==str:\n",
    "            sent = ['<s>'] + sent.split() + ['</s>']\n",
    "        return self.viterbi(sent)\n",
    "    "
   ]
  },
  {
   "cell_type": "code",
   "execution_count": 985,
   "metadata": {
    "collapsed": false
   },
   "outputs": [
    {
     "name": "stdout",
     "output_type": "stream",
     "text": [
      "... extracting info & featurizing data\n",
      "... building subclassifier\n",
      "    ... trained 100 sentences\n",
      "    ... trained 200 sentences\n",
      "    ... trained 300 sentences\n",
      "    ... trained 400 sentences\n",
      "    ... trained 500 sentences\n",
      "    ... trained 600 sentences\n",
      "    ... trained 700 sentences\n",
      "    ... trained 800 sentences\n",
      "    ... trained 900 sentences\n",
      "    ... trained 1000 sentences\n",
      "    ... trained 1100 sentences\n",
      "    ... trained 1200 sentences\n",
      "    ... trained 1300 sentences\n",
      "    ... trained 1400 sentences\n",
      "    ... trained 1500 sentences\n",
      "    ... trained 1600 sentences\n",
      "    ... trained 1700 sentences\n",
      "    ... trained 1800 sentences\n",
      "    ... trained 1900 sentences\n",
      "    ... trained 2000 sentences\n",
      "    ... trained 2100 sentences\n",
      "    ... trained 2200 sentences\n",
      "    ... trained 2300 sentences\n",
      "    ... trained 2400 sentences\n",
      "    ... trained 2500 sentences\n",
      "    ... trained 2600 sentences\n",
      "    ... trained 2700 sentences\n",
      "    ... trained 2800 sentences\n",
      "    ... trained 2900 sentences\n",
      "    ... trained 3000 sentences\n",
      "    ... trained 3100 sentences\n",
      "    ... trained 3200 sentences\n",
      "    ... trained 3300 sentences\n",
      "    ... trained 3400 sentences\n",
      "    ... trained 3500 sentences\n",
      "    ... trained 3600 sentences\n",
      "    ... trained 3700 sentences\n",
      "    ... trained 3800 sentences\n",
      "    ... trained 3900 sentences\n",
      "CPU times: user 21.2 s, sys: 17.1 s, total: 38.3 s\n",
      "Wall time: 6min 10s\n"
     ]
    }
   ],
   "source": [
    "%%time\n",
    "memm = MEMM(brown_tagged_sents,verbose_freq=100)"
   ]
  },
  {
   "cell_type": "code",
   "execution_count": 986,
   "metadata": {
    "collapsed": false
   },
   "outputs": [
    {
     "name": "stdout",
     "output_type": "stream",
     "text": [
      "... evaluated 10 sentences\n",
      "... evaluated 20 sentences\n",
      "... evaluated 30 sentences\n",
      "... evaluated 40 sentences\n",
      "... evaluated 50 sentences\n",
      "... evaluated 60 sentences\n",
      "... evaluated 70 sentences\n",
      "... evaluated 80 sentences\n",
      "... evaluated 90 sentences\n",
      "Accuracy (100 samples): 35.71%\n",
      "CPU times: user 2min 50s, sys: 551 ms, total: 2min 50s\n",
      "Wall time: 2min 50s\n"
     ]
    }
   ],
   "source": [
    "%%time\n",
    "memm.evaluate()"
   ]
  },
  {
   "cell_type": "code",
   "execution_count": null,
   "metadata": {
    "collapsed": true
   },
   "outputs": [],
   "source": []
  }
 ],
 "metadata": {
  "kernelspec": {
   "display_name": "Python 2",
   "language": "python",
   "name": "python2"
  },
  "language_info": {
   "codemirror_mode": {
    "name": "ipython",
    "version": 2
   },
   "file_extension": ".py",
   "mimetype": "text/x-python",
   "name": "python",
   "nbconvert_exporter": "python",
   "pygments_lexer": "ipython2",
   "version": "2.7.11"
  }
 },
 "nbformat": 4,
 "nbformat_minor": 0
}
