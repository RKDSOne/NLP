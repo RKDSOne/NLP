{
 "cells": [
  {
   "cell_type": "markdown",
   "metadata": {},
   "source": [
    "# N-Gram Language Model"
   ]
  },
  {
   "cell_type": "markdown",
   "metadata": {},
   "source": [
    "### A. Library Tools"
   ]
  },
  {
   "cell_type": "code",
   "execution_count": 2,
   "metadata": {
    "collapsed": true
   },
   "outputs": [],
   "source": [
    "import nltk\n",
    "from nltk.corpus import brown"
   ]
  },
  {
   "cell_type": "code",
   "execution_count": 3,
   "metadata": {
    "collapsed": true
   },
   "outputs": [],
   "source": [
    "brown_bigram_cfd = nltk.ConditionalFreqDist(nltk.bigrams(brown.words()))\n",
    "    # type: dict.\n",
    "    # structure:\n",
    "    #  keys = words; values = dict of next_word:frequency."
   ]
  },
  {
   "cell_type": "code",
   "execution_count": 10,
   "metadata": {
    "collapsed": false
   },
   "outputs": [],
   "source": [
    "brown_bigram_cpd = nltk.ConditionalProbDist(brown_bigram_cfd, nltk.MLEProbDist)"
   ]
  },
  {
   "cell_type": "code",
   "execution_count": 20,
   "metadata": {
    "collapsed": false
   },
   "outputs": [
    {
     "data": {
      "text/plain": [
       "<MLEProbDist based on 1161 samples>"
      ]
     },
     "execution_count": 20,
     "metadata": {},
     "output_type": "execute_result"
    }
   ],
   "source": [
    "brown_bigram_cpd['my'] # 'my' has 1161 next words in total."
   ]
  },
  {
   "cell_type": "code",
   "execution_count": 25,
   "metadata": {
    "collapsed": false
   },
   "outputs": [
    {
     "data": {
      "text/plain": [
       "0.04478897502153316"
      ]
     },
     "execution_count": 25,
     "metadata": {},
     "output_type": "execute_result"
    }
   ],
   "source": [
    "brown_bigram_cpd['my'].prob('own') # p(w_i+1=own | w_i=my)"
   ]
  },
  {
   "cell_type": "markdown",
   "metadata": {},
   "source": [
    "### B. N-Gram LMs\n",
    "\n",
    "**NB: In practice, GT-smoothing is used with Linear Interpolation (e.g. $\\hat(p)(w_n|w_{n-2}w_{n-1}) = \\lambda_1p(w_n|w_{n-2}w_{n-1}) + \\lambda_2p(w_n|w_{n-1}) + \\lambda_3p(w_n)$), where $\\lambda$ weights are learned using EM algorithm. This is not implemented here because EM algorithm will be implemented later on.**"
   ]
  },
  {
   "cell_type": "code",
   "execution_count": 1,
   "metadata": {
    "collapsed": false
   },
   "outputs": [],
   "source": [
    "import nltk"
   ]
  },
  {
   "cell_type": "code",
   "execution_count": 2,
   "metadata": {
    "collapsed": false
   },
   "outputs": [],
   "source": [
    "def load_brown(train_percentage=.8):\n",
    "    from nltk.corpus import brown\n",
    "    from nltk.stem import PorterStemmer\n",
    "    print \"... loading sentences\"\n",
    "    brown_sents = brown.sents()\n",
    "    print \"... stemming and lowercasing words\"\n",
    "    brown_sents = [[PorterStemmer().stem(w).lower() for w in sent]\n",
    "                   for sent in brown_sents]\n",
    "    print \"... padding sentences\"\n",
    "    brown_sents = [['<s>']+s+['</s>'] for s in brown_sents]\n",
    "    cut_off = int(len(brown_sents)*.8)\n",
    "    \n",
    "    return ([w for s in brown_sents[:cut_off] for w in s], \\\n",
    "            brown_sents[cut_off:]) # train: a list of words; test: a list of sents."
   ]
  },
  {
   "cell_type": "code",
   "execution_count": 3,
   "metadata": {
    "collapsed": false
   },
   "outputs": [
    {
     "name": "stdout",
     "output_type": "stream",
     "text": [
      "... loading sentences\n",
      "... stemming and lowercasing words\n",
      "... padding sentences\n",
      "<s>\n",
      "CPU times: user 21.3 s, sys: 266 ms, total: 21.5 s\n",
      "Wall time: 21.7 s\n"
     ]
    }
   ],
   "source": [
    "%%time\n",
    "brown_train, brown_test = load_brown()\n",
    "print brown_train[0]"
   ]
  },
  {
   "cell_type": "code",
   "execution_count": 132,
   "metadata": {
    "collapsed": false
   },
   "outputs": [],
   "source": [
    "import numpy as np\n",
    "from nltk.util import ngrams\n",
    "from collections import Counter, defaultdict\n",
    "from functools import partial\n",
    "from __future__ import division"
   ]
  },
  {
   "cell_type": "code",
   "execution_count": 133,
   "metadata": {
    "collapsed": true
   },
   "outputs": [],
   "source": [
    "from sklearn.linear_model import LinearRegression"
   ]
  },
  {
   "cell_type": "code",
   "execution_count": 170,
   "metadata": {
    "collapsed": false
   },
   "outputs": [],
   "source": [
    "class NGramLM:\n",
    "    \n",
    "    def __init__(self, train, test, n=2):\n",
    "        self.train = train # a list of words.\n",
    "        self.test = test # a list of lists of words (i.e. a list of splitted sents).\n",
    "        self.n = n\n",
    "        self.vocab = list(set(train))\n",
    "        test_vocab = {w for s in self.test for w in s}\n",
    "        self.unseen_vocab = test_vocab - test_vocab.intersection(set(self.vocab))\n",
    "        self.N = len(train)\n",
    "        self.V = len(self.vocab)\n",
    "        self.build_n_grams()\n",
    "        \n",
    "    def build_n_grams(self):\n",
    "        n_grams = {} \n",
    "        N_cs, gt_lrs = {}, {}\n",
    "            # N_cs: a dictionary of n-gram frequency of frequency (good-turing).\n",
    "            #  keys: N_cs[2], e.g., for N_c distribution of bigrams.\n",
    "            # gt_lrs: linear regression: log(N_c) = intercept + coef * log(c).\n",
    "            #  handles N_c = 0 cases (Gale & Sampson 1995).\n",
    "            #  keys: gt_lrs[2] returns the function that takes a count c,\n",
    "            #        and returns an estimated N_c.\n",
    "        for i in xrange(1,self.n+1):\n",
    "            n_grams[i] = Counter(ngrams(self.train,i)) \n",
    "            N_c = defaultdict(int) # N_c: keys=freq; values=freq of freq.\n",
    "            for freq in n_grams[i].values():\n",
    "                N_c[freq] += 1\n",
    "            N_cs[i] = N_c\n",
    "            lr = LinearRegression()\n",
    "            lr.fit(np.log(N_c.keys())[:,np.newaxis],np.log(N_c.values())[:,np.newaxis])\n",
    "            gt_lrs[i] = lambda c: np.exp(lr.intercept_[0] + lr.coef_[0][0]*np.log(c))\n",
    "                # log(N_c) = intercept + coef * log(c) =>\n",
    "                # N_c = exp( intercept + coef * log(c) ) (cf. J&M ch4.5:21,eq.4.29).\n",
    "        self.n_grams = n_grams\n",
    "        self.N_cs = N_cs\n",
    "        self.gt_lrs = gt_lrs             \n",
    "        \n",
    "    def adjusted_count(self, ngram, smoothing='laplace'): # ngram: a list of words, e.g. ['my','pencil'].\n",
    "        n = len(ngram)\n",
    "        c = self.n_grams[n][tuple(ngram)]\n",
    "        if smoothing=='laplace':\n",
    "            c_adjusted = self.laplace_adjust(c)\n",
    "        else: \n",
    "            c_adjusted = self.good_turing_adjust(c,n)      \n",
    "        return c_adjusted\n",
    "    \n",
    "    def laplace_adjust(self, c):\n",
    "        return (c+1)*(self.N/(self.N+self.V)) # (cf. J&M ch4.5:17,eq.4.21)\n",
    "    \n",
    "    def get_N_c(self, c, n):\n",
    "        N_c = 0 if c not in self.N_cs[n].keys() else self.N_cs[n][c]\n",
    "            # accessing N_cs[n][c] when it doesn't exist would make a 0 entry at N_cs[n][c],\n",
    "            #  because N_cs[n] is set as a defaultdict(int) for computational convenience.\n",
    "        if N_c==0:\n",
    "            return self.gt_lrs[n](c)\n",
    "        return N_c\n",
    "    \n",
    "    def good_turing_adjust(self, c, n): # n for n in 'n'-gram\n",
    "        k = 5 # Katz correction (Katz 1987)\n",
    "        if c==0: \n",
    "            N_0 = self.get_N_c(1,n) # N_1 for N_0, moved prob. mass = N_1/N (cf. J&M ch4.5:20,eq.4.25) \n",
    "            return N_0 * (1/len(self.unseen_vocab))\n",
    "                # prob(w_unseen) = (N_1/N)*(1/unseen_vocab_size) = (N_1*(1/unseen_vocab_size)) / N,\n",
    "                #  so instead of returning N_1 for count, we multiply it by (1/unseen_vocab_size)\n",
    "                #  as a special case (i.e. 0-count case) treatment.\n",
    "                #  logically this is returning a count, but computationally it adds up.\n",
    "        elif c>=1 and c<=k:\n",
    "            return ( (c+1)*(self.get_N_c(c+1,n)/self.get_N_c(c,n)) / \\\n",
    "                     1 - ( (k+1)*self.get_N_c(k+1,n) ) / self.get_N_c(1,n) ) # (cf. J&M ch4.5:21,eq.4.31)\n",
    "        else:\n",
    "            return (c+1)*(self.get_N_c(c+1,n)/self.get_N_c(c,n))\n",
    "    \n",
    "    def n_gram_probability(self, sent, n=1, smoothing='laplace'):\n",
    "        p = 1\n",
    "        for i in xrange(1,n): # special case handling, e.g, (w_i | w_i-2,w_i-1) = (w_i), etc.\n",
    "            if i==1:\n",
    "                p *= self.adjusted_count(sent[:i],smoothing)/self.N\n",
    "            else:\n",
    "                p *= self.adjusted_count(sent[:i],smoothing)/self.adjusted_count(sent[:i-1],smoothing)\n",
    "        n_grams = list(ngrams(sent,n))\n",
    "        for n_gram in n_grams:\n",
    "            if n==1:\n",
    "                p *= self.adjusted_count(n_gram,smoothing)/self.N\n",
    "            else:\n",
    "                p *= self.adjusted_count(n_gram,smoothing)/self.adjusted_count(n_gram[:-1],smoothing)\n",
    "        return p if p>0 else 1e-323 # if still underflow, return the smallest number possible.\n",
    "    \n",
    "    def perplexity(self, sent, n=1, smoothing='laplace'):\n",
    "        N = len(sent)\n",
    "        p = self.n_gram_probability(sent,n,smoothing)\n",
    "        return np.exp(-(1/N)*np.log(p))\n",
    "            # more likely returning np.power(p,-1/N) exposes us to \n",
    "            #  underflow issue (cf. J&M ch4.8:26,eq.4.45)\n",
    "            # np.exp(-(1/N)*np.log(p)) is LESS LIKELY to have this issue.\n",
    "\n",
    "    def evaluate(self, n=1, smoothing='laplace'):\n",
    "        return np.mean([self.perplexity(sent,n,smoothing) for sent in self.test])\n",
    "\n",
    "# smoothing variable passing pipeline:\n",
    "# \n",
    "# perplexity() --> n_gram_probability() --> adjusted_count() \n",
    "#     |\\        \n",
    "#     |     \n",
    "# evaluate() "
   ]
  },
  {
   "cell_type": "code",
   "execution_count": 171,
   "metadata": {
    "collapsed": false
   },
   "outputs": [
    {
     "name": "stdout",
     "output_type": "stream",
     "text": [
      "CPU times: user 7.78 s, sys: 151 ms, total: 7.93 s\n",
      "Wall time: 7.99 s\n"
     ]
    }
   ],
   "source": [
    "%%time\n",
    "nglm = NGramLM(brown_train,brown_test,n=6)"
   ]
  },
  {
   "cell_type": "markdown",
   "metadata": {},
   "source": [
    "##### GT-smoothing has lower average perplexity over ngrams than Laplace-smoothing\n",
    "**NB: unigram doesn't care about dependency at all, so its perplexity is not a good evaluator for comparing language models.**\n",
    "\n",
    "**NB: GT-smoothing here doesn't have Linear Interpolation accompany it, so perplexity increases as the size of ngram increases. However the point of this demo is only to show that GT-smoothing has lower avg. perplexity.**"
   ]
  },
  {
   "cell_type": "code",
   "execution_count": 173,
   "metadata": {
    "collapsed": false
   },
   "outputs": [
    {
     "name": "stdout",
     "output_type": "stream",
     "text": [
      "Laplace Smoothing:\n",
      "... 2-gram Average Perplexity: 61.502261\n",
      "... 3-gram Average Perplexity: 9.536523\n",
      "... 4-gram Average Perplexity: 4.197516\n",
      "... 5-gram Average Perplexity: 3.661287\n",
      "... 6-gram Average Perplexity: 3.602977\n",
      "CPU times: user 3.41 s, sys: 72.2 ms, total: 3.48 s\n",
      "Wall time: 3.43 s\n"
     ]
    }
   ],
   "source": [
    "%%time\n",
    "print 'Laplace Smoothing:'\n",
    "for i in xrange(2,6+1):\n",
    "    print '... %d-gram Average Perplexity: %.6f' % (i,nglm.evaluate(n=i,smoothing='laplace'))"
   ]
  },
  {
   "cell_type": "code",
   "execution_count": 174,
   "metadata": {
    "collapsed": false
   },
   "outputs": [
    {
     "name": "stdout",
     "output_type": "stream",
     "text": [
      "Good-Turing Smoothing:\n",
      "... 2-gram Average Perplexity: 1.138796\n",
      "... 3-gram Average Perplexity: 1.716055\n",
      "... 4-gram Average Perplexity: 1.499161\n",
      "... 5-gram Average Perplexity: 1.884957\n",
      "... 6-gram Average Perplexity: 2.056255\n",
      "CPU times: user 24.7 s, sys: 812 ms, total: 25.5 s\n",
      "Wall time: 24.9 s\n"
     ]
    }
   ],
   "source": [
    "%%time\n",
    "print 'Good-Turing Smoothing:'\n",
    "for i in xrange(2,6+1):\n",
    "    print '... %d-gram Average Perplexity: %.6f' % (i,nglm.evaluate(n=i,smoothing='good-turing'))"
   ]
  },
  {
   "cell_type": "markdown",
   "metadata": {},
   "source": [
    "##### Demo: How GT-smoothing with Linear Regression works"
   ]
  },
  {
   "cell_type": "code",
   "execution_count": 144,
   "metadata": {
    "collapsed": false
   },
   "outputs": [
    {
     "name": "stdout",
     "output_type": "stream",
     "text": [
      "defaultdict(<type 'int'>, {1: 1035401, 2: 9414, 3: 1720, 4: 647, 5: 347, 6: 180, 7: 154, 8: 69, 9: 38, 10: 35, 11: 34, 12: 15, 13: 26, 14: 23, 15: 10, 16: 17, 17: 6, 18: 8, 19: 12, 20: 7, 21: 2, 22: 4, 23: 2, 24: 3, 25: 3, 26: 2, 27: 2, 29: 3, 30: 2, 31: 1, 32: 1, 33: 1, 34: 5, 35: 1, 36: 3, 37: 3, 38: 2, 40: 2, 43: 1, 44: 2, 49: 3, 51: 1, 52: 1, 53: 2, 55: 1, 63: 1, 164: 1})\n"
     ]
    }
   ],
   "source": [
    "print nglm.N_cs[6] # key=freq (for 6-grams); value=freq of freq."
   ]
  },
  {
   "cell_type": "code",
   "execution_count": 145,
   "metadata": {
    "collapsed": false
   },
   "outputs": [
    {
     "name": "stdout",
     "output_type": "stream",
     "text": [
      "[1, 2, 3, 4, 5, 6, 7, 8, 9, 10, 11, 12, 13, 14, 15, 16, 17, 18, 19, 20, 21, 22, 23, 24, 25, 26, 27, 29, 30, 31, 32, 33, 34, 35, 36, 37, 38, 40, 43, 44, 49, 51, 52, 53, 55, 63, 164]\n",
      "[1035401, 9414, 1720, 647, 347, 180, 154, 69, 38, 35, 34, 15, 26, 23, 10, 17, 6, 8, 12, 7, 2, 4, 2, 3, 3, 2, 2, 3, 2, 1, 1, 1, 5, 1, 3, 3, 2, 2, 1, 2, 3, 1, 1, 2, 1, 1, 1]\n"
     ]
    }
   ],
   "source": [
    "c_vec = nglm.N_cs[6].keys() \n",
    "N_c_vec = nglm.N_cs[6].values() \n",
    "print c_vec\n",
    "print N_c_vec"
   ]
  },
  {
   "cell_type": "code",
   "execution_count": 146,
   "metadata": {
    "collapsed": true
   },
   "outputs": [],
   "source": [
    "import matplotlib.pyplot as plt\n",
    "%matplotlib inline"
   ]
  },
  {
   "cell_type": "code",
   "execution_count": 147,
   "metadata": {
    "collapsed": false
   },
   "outputs": [
    {
     "data": {
      "text/plain": [
       "<matplotlib.text.Text at 0x119636950>"
      ]
     },
     "execution_count": 147,
     "metadata": {},
     "output_type": "execute_result"
    },
    {
     "data": {
      "image/png": "[encoded data removed]",
      "text/plain": [
       "<matplotlib.figure.Figure at 0x1148e8e90>"
      ]
     },
     "metadata": {},
     "output_type": "display_data"
    }
   ],
   "source": [
    "plt.scatter(c_vec,N_c_vec)\n",
    "plt.title('N_c ~ c: Direct Linear Relation')\n",
    "plt.xlabel('c')\n",
    "plt.ylabel('N_c')"
   ]
  },
  {
   "cell_type": "code",
   "execution_count": 150,
   "metadata": {
    "collapsed": false
   },
   "outputs": [
    {
     "data": {
      "text/plain": [
       "LinearRegression(copy_X=True, fit_intercept=True, n_jobs=1, normalize=False)"
      ]
     },
     "execution_count": 150,
     "metadata": {},
     "output_type": "execute_result"
    }
   ],
   "source": [
    "log_c_vec, log_N_c_vec = np.log(c_vec), np.log(N_c_vec)\n",
    "lr = LinearRegression()\n",
    "lr.fit(log_c_vec[:,np.newaxis],log_N_c_vec[:,np.newaxis])"
   ]
  },
  {
   "cell_type": "code",
   "execution_count": 156,
   "metadata": {
    "collapsed": false
   },
   "outputs": [
    {
     "data": {
      "text/plain": [
       "<matplotlib.text.Text at 0x114c14350>"
      ]
     },
     "execution_count": 156,
     "metadata": {},
     "output_type": "execute_result"
    },
    {
     "data": {
      "image/png": "[encoded data removed]",
      "text/plain": [
       "<matplotlib.figure.Figure at 0x114c3ded0>"
      ]
     },
     "metadata": {},
     "output_type": "display_data"
    }
   ],
   "source": [
    "plt.scatter(log_c_vec,log_N_c_vec)\n",
    "plt.plot(log_c_vec, map(lambda log_c:lr.intercept_[0]+lr.coef_[0][0]*log_c, log_c_vec))\n",
    "plt.title('log(N_c) ~ log(c): Log-Transformed Linear Relation')\n",
    "plt.xlabel('log(c)')\n",
    "plt.ylabel('log(N_c)')"
   ]
  },
  {
   "cell_type": "markdown",
   "metadata": {
    "collapsed": true
   },
   "source": [
    "##### Why Perplexity? (ref. Hockenmaier, U Illinois, CS498JH: Lec 4, pp8-10)\n",
    "\n",
    "* **Cross Entropy**\n",
    "\n",
    "    * Equation: \n",
    "        * Cross Entropy Approx: $H(p,m) = lim_{n\\to\\infty}-\\frac{1}{n}\\sum_{w_1...w_n}p(w_1...w_n)log_2m(w_1...w_n) \\simeq -\\frac{1}{N}log_2m(w_1...w_N)$ (by *Shannon-McMillan-Breiman Theorem*).\n",
    "        * Actual Entropy: $H(p) = lim_{n\\to\\infty}-\\frac{1}{n}\\sum_{w_1...w_n}p(w_1...w_n)log_2p(w_1...w_n) \\simeq -\\frac{1}{N}log_2p(w_1...w_N)$\n",
    "    \n",
    "    * Notation: $p$ is the true distribution (in the context of language model, the probability distribution that spits out word sequences) and $m$ is the model distribution. $N$ is the size of a (training) corpus.\n",
    "    \n",
    "    * Meaning: $H(p,m)$ indicates the average number of bits required to encode messages sampled from $p$ with a coding scheme based on $m$ (in this context, again, it means generating word sequences using $m$, as an approximation to the word sequences generated by the true distribution $p$.\n",
    "\n",
    "* **Perplexity**\n",
    "\n",
    "    * $Perplexity(w_1...w_N) = 2^{H(w_1...w_N)} = 2^{-\\frac{1}{N}log2m(w_1...w_N)} = m(w_1...w_N)^{-\\frac{1}{N}} = \\sqrt[N]{\\frac{1}{m(w_1...w_N)}}$."
   ]
  },
  {
   "cell_type": "code",
   "execution_count": 184,
   "metadata": {
    "collapsed": false
   },
   "outputs": [
    {
     "data": {
      "text/plain": [
       "<matplotlib.text.Text at 0x11221d490>"
      ]
     },
     "execution_count": 184,
     "metadata": {},
     "output_type": "execute_result"
    },
    {
     "data": {
      "image/png": "[encoded data removed]",
      "text/plain": [
       "<matplotlib.figure.Figure at 0x13b818b10>"
      ]
     },
     "metadata": {},
     "output_type": "display_data"
    }
   ],
   "source": [
    "# CROSS ENT VS. PERPLEXITY PLOT\n",
    "def frange(x,y,step):\n",
    "    while x < y:\n",
    "        yield x\n",
    "        x += step\n",
    "H = [i for i in frange(0,20,.1)]\n",
    "plt.plot(H,np.power(2,H))\n",
    "plt.title('Cross Entropy vs. Perplexity')\n",
    "plt.xlabel('H')\n",
    "plt.ylabel('PPLX')"
   ]
  },
  {
   "cell_type": "markdown",
   "metadata": {
    "collapsed": true
   },
   "source": [
    "# Part-Of-Speech Tagging"
   ]
  },
  {
   "cell_type": "markdown",
   "metadata": {
    "collapsed": true
   },
   "source": [
    "* ** Task **\n",
    "\n",
    "    * $P(t|w)$, i.e. given a word (i.e. observation), what is its POS tag (i.e. generator)?\n",
    "    * More generally, $P(\\mathbf{t}|\\mathbf{w})$, i.e. given a word sequence, what is the most likely tag sequence?\n",
    "\n",
    "* ** Most-Likely Tag Sequence **\n",
    "\n",
    "    * Equation: $\\hat{\\mathbf{t}} = argmax_\\mathbf{t}P(\\mathbf{t}|\\mathbf{w}) \\simeq argmax_\\mathbf{t}\\prod_{i=1}^nP(w_i|t_i)P(t_i|t_{i-1})$ (for derivation, cf. J&M ch5.5:18-19).\n",
    "        * $P(w_i|t_i) = \\frac{C(t_i,w_i)}{C(t_i)}$ (cf. J&M ch5.5:20,eq.5.34).\n",
    "        * $P(t_i|t_{i-1}) = \\frac{C(t_{i-1},t_i)}{C(t_{i-1})}$ (cf. ibid.,eq.5.32).\n",
    "    * Assumptions:\n",
    "        * The appearance of a word only depends on its POS tag (i.e. independent of words around it).\n",
    "        * The appearance of a tag only depends on its previous tag.\n",
    "        \n",
    "* ** Optimization Goal **\n",
    "    \n",
    "    * Given a chart representation such as the following (cf. J&M ch5.5:27,fig.5.18), find the best tag sequence (*Viterbi Algorithm*)."
   ]
  },
  {
   "cell_type": "markdown",
   "metadata": {},
   "source": [
    "### A. HMM (Optimization = Viberbi Algorithm)"
   ]
  },
  {
   "cell_type": "markdown",
   "metadata": {},
   "source": [
    "* ** HMM Formalism ** (cf. J&M ch5.5:23)\n",
    "\n",
    "    * $Q = q_1...q_N$, a set of $N$ *states*.\n",
    "    * $A = a_{11}a_{12}...a_{nn}$, where $\\sum_{j=1}^na_{ij} = 1, \\forall i$, a *transition probability matrix* $A$.\n",
    "    * $O = o_1...o_T$, a sequence of *observations*.\n",
    "    * $B = b_i(o_t)$, a sequence of *emission probabilities* (i.e. the probability of an observation $o_t$ being omitted at state $i$.\n",
    "    * $q_0,q_F$, *start state* and *end state*."
   ]
  },
  {
   "cell_type": "markdown",
   "metadata": {},
   "source": [
    "##### Toy Viterbi"
   ]
  },
  {
   "cell_type": "code",
   "execution_count": 189,
   "metadata": {
    "collapsed": true
   },
   "outputs": [],
   "source": [
    "# q_end  end     end     end     end     end\n",
    "#\n",
    "# q_4    NN      NN      NN      NN      NN\n",
    "#\n",
    "# q_3    TO      TO      TO      TO      TO\n",
    "#\n",
    "# q_2    VB      VB      VB      VB      VB\n",
    "# \n",
    "# q_1    PPSS    PPSS    PPSS    PPSS    PPSS\n",
    "#\n",
    "# q_0    <s>     <s>     <s>     <s>     <s>\n",
    "#\n",
    "#                w_1      w2      w3      w4      <== Observable"
   ]
  },
  {
   "cell_type": "code",
   "execution_count": 190,
   "metadata": {
    "collapsed": true
   },
   "outputs": [],
   "source": [
    "import numpy as np"
   ]
  },
  {
   "cell_type": "code",
   "execution_count": 230,
   "metadata": {
    "collapsed": false
   },
   "outputs": [],
   "source": [
    "Q = {1:'PPSS',2:'VB',3:'TO',4:'NN'}\n",
    "A = np.array([[0.,    .67,    .019,    .0043,    .041],   # rows: from-states, cols: to-states.\n",
    "              [0.,    .00013, .23,     .00079,   .0012],  # rows=cols={START,PPSS,VB,TO,NN}, len=5\n",
    "              [0.,    .007,   .0038,   .035,     .047],   # e.g. A[3][2] = p(TO->VB) = .83.\n",
    "              [0.,    0.,     .83,     0.,       .00047],  \n",
    "              [0.,    .0045,  .004,    .016,     .087]])\n",
    "O = {1:'i',2:'want',3:'to',4:'race'}\n",
    "B = np.array([[1.,     0.,     0.,     0.,     0.],     # rows: emitting-state, cols: emitted-observations.\n",
    "              [0.,     .37,    0.,     0.,     0.],     #  rows={START,PPSS,VB,TO,NN}, len=5\n",
    "              [0.,     0.,     .0093,  0.,     .00012], #  cols={<s>,i,want,to,race}, len=5  \n",
    "              [0.,     0.,     0.,     .99,    0.],     # e.g. B[1][1] = p(PPSS->i) = .37. \n",
    "              [0.,     0.,     .000054,0.,     .00057]])  \n",
    "# Q[0], Q['F']\n",
    "HMM = {'Q':Q, 'A':A, 'O':O, 'B':B}"
   ]
  },
  {
   "cell_type": "code",
   "execution_count": 324,
   "metadata": {
    "collapsed": true
   },
   "outputs": [],
   "source": [
    "def toy_viterbi():\n",
    "    N, T = len(Q), len(O) # 4, 4\n",
    "    viterbi = np.zeros((N+2,T+1)) # 6x5, 2 extra rows for start & end, 1 extra col for time_0.\n",
    "    backpointer = np.zeros((N+2,T+1),dtype=int) # dtype=int: np matrix defaults float.\n",
    "    for s in xrange(1,N+1): # from 1 to N.\n",
    "        viterbi[s][1] = A[0][s] * B[s][1]\n",
    "        backpointer[s][1] = 0\n",
    "    for t in xrange(2,T+1): # from 2 to T.\n",
    "        for s in xrange(1,N+1): # from 1 to N. \n",
    "            viterbi[s][t] = max(viterbi[s_prime][t-1]*A[s_prime][s]*B[s][t]\n",
    "                                        for s_prime in xrange(1,N+1))\n",
    "            backpointer[s][t] = np.argmax([viterbi[s_prime][t-1]*A[s_prime][s]\n",
    "                                           for s_prime in xrange(1,N+1)])+1 # we are indexing from 1\n",
    "                                                                            # python starts from 0.\n",
    "    max_state = np.argmax(viterbi[:,N])\n",
    "    best_tagged_seq = []\n",
    "    for s in reversed(xrange(1,N+1)): # backtracing backpointer's cols: 4->1.\n",
    "        best_tagged_seq.insert(0,(O[s],Q[max_state])) \n",
    "        max_state = backpointer[max_state][s]\n",
    "        \n",
    "    return best_tagged_seq \n",
    "    "
   ]
  },
  {
   "cell_type": "code",
   "execution_count": 322,
   "metadata": {
    "collapsed": false
   },
   "outputs": [
    {
     "data": {
      "image/png": "[encoded data removed]",
      "text/plain": [
       "<IPython.core.display.Image object>"
      ]
     },
     "metadata": {
      "image/png": {
       "width": "30%"
      }
     },
     "output_type": "display_data"
    },
    {
     "data": {
      "image/png": "[encoded data removed]",
      "text/plain": [
       "<IPython.core.display.Image object>"
      ]
     },
     "metadata": {
      "image/png": {
       "width": "10%"
      }
     },
     "output_type": "display_data"
    }
   ],
   "source": [
    "from IPython.display import Image, display\n",
    "display(Image(filename='/Users/jacobsw/Desktop/IMPLEMENTATION_CAMP/CODE/BASIC_TOPICS/NLP/FIGS/toy_viterbi_viterbi.png',width='30%'))\n",
    "display(Image(filename='/Users/jacobsw/Desktop/IMPLEMENTATION_CAMP/CODE/BASIC_TOPICS/NLP/FIGS/toy_viterbi_backpointer.png',width='10%'))"
   ]
  },
  {
   "cell_type": "markdown",
   "metadata": {},
   "source": [
    "** Dummy's Guide to Backtracing **\n",
    "\n",
    "* Set up most-likely-sequence container (MLS): [] (NB: insert to the beginning of the container).\n",
    "* At Viterbi matrix's last column (end-state, 4), found the max is 1.83e-09, at index 2. MLS = [2].\n",
    "* Go to Backpointer matrix's last column (col=4), found col[2] is 3. MLS = [3,2].\n",
    "* In Backpointer matrix's previous column (col=3), found col[3] is 2. MLS = [2,3,2].\n",
    "* In Backpointer matrix's previous column (col=2), found col[2] is 1. MLS = [1,2,3,2].\n",
    "* Stop at the beginning of the backtracing (col=1), which points to 0."
   ]
  },
  {
   "cell_type": "code",
   "execution_count": 325,
   "metadata": {
    "collapsed": false
   },
   "outputs": [
    {
     "name": "stdout",
     "output_type": "stream",
     "text": [
      "[('i', 'PPSS'), ('want', 'VB'), ('to', 'TO'), ('race', 'VB')]\n"
     ]
    }
   ],
   "source": [
    "MLS = toy_viterbi()\n",
    "print MLS"
   ]
  },
  {
   "cell_type": "code",
   "execution_count": null,
   "metadata": {
    "collapsed": true
   },
   "outputs": [],
   "source": []
  },
  {
   "cell_type": "code",
   "execution_count": null,
   "metadata": {
    "collapsed": true
   },
   "outputs": [],
   "source": []
  }
 ],
 "metadata": {
  "kernelspec": {
   "display_name": "Python 2",
   "language": "python",
   "name": "python2"
  },
  "language_info": {
   "codemirror_mode": {
    "name": "ipython",
    "version": 2
   },
   "file_extension": ".py",
   "mimetype": "text/x-python",
   "name": "python",
   "nbconvert_exporter": "python",
   "pygments_lexer": "ipython2",
   "version": "2.7.11"
  }
 },
 "nbformat": 4,
 "nbformat_minor": 0
}
