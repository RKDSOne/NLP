{
 "cells": [
  {
   "cell_type": "markdown",
   "metadata": {},
   "source": [
    "# N-Gram Language Model"
   ]
  },
  {
   "cell_type": "markdown",
   "metadata": {},
   "source": [
    "### A. Library Tools"
   ]
  },
  {
   "cell_type": "code",
   "execution_count": 2,
   "metadata": {
    "collapsed": true
   },
   "outputs": [],
   "source": [
    "import nltk\n",
    "from nltk.corpus import brown"
   ]
  },
  {
   "cell_type": "code",
   "execution_count": 3,
   "metadata": {
    "collapsed": true
   },
   "outputs": [],
   "source": [
    "brown_bigram_cfd = nltk.ConditionalFreqDist(nltk.bigrams(brown.words()))\n",
    "    # type: dict.\n",
    "    # structure:\n",
    "    #  keys = words; values = dict of next_word:frequency."
   ]
  },
  {
   "cell_type": "code",
   "execution_count": 10,
   "metadata": {
    "collapsed": false
   },
   "outputs": [],
   "source": [
    "brown_bigram_cpd = nltk.ConditionalProbDist(brown_bigram_cfd, nltk.MLEProbDist)"
   ]
  },
  {
   "cell_type": "code",
   "execution_count": 20,
   "metadata": {
    "collapsed": false
   },
   "outputs": [
    {
     "data": {
      "text/plain": [
       "<MLEProbDist based on 1161 samples>"
      ]
     },
     "execution_count": 20,
     "metadata": {},
     "output_type": "execute_result"
    }
   ],
   "source": [
    "brown_bigram_cpd['my'] # 'my' has 1161 next words in total."
   ]
  },
  {
   "cell_type": "code",
   "execution_count": 25,
   "metadata": {
    "collapsed": false
   },
   "outputs": [
    {
     "data": {
      "text/plain": [
       "0.04478897502153316"
      ]
     },
     "execution_count": 25,
     "metadata": {},
     "output_type": "execute_result"
    }
   ],
   "source": [
    "brown_bigram_cpd['my'].prob('own') # p(w_i+1=own | w_i=my)"
   ]
  },
  {
   "cell_type": "markdown",
   "metadata": {},
   "source": [
    "### B. N-Gram LMs\n",
    "\n",
    "**NB: In practice, GT-smoothing is used with Linear Interpolation (e.g. $\\hat(p)(w_n|w_{n-2}w_{n-1}) = \\lambda_1p(w_n|w_{n-2}w_{n-1}) + \\lambda_2p(w_n|w_{n-1}) + \\lambda_3p(w_n)$), where $\\lambda$ weights are learned using EM algorithm. This is not implemented here because EM algorithm will be implemented later on.**"
   ]
  },
  {
   "cell_type": "code",
   "execution_count": 1,
   "metadata": {
    "collapsed": false
   },
   "outputs": [],
   "source": [
    "import nltk"
   ]
  },
  {
   "cell_type": "code",
   "execution_count": 2,
   "metadata": {
    "collapsed": false
   },
   "outputs": [],
   "source": [
    "def load_brown(train_percentage=.8):\n",
    "    from nltk.corpus import brown\n",
    "    from nltk.stem import PorterStemmer\n",
    "    print \"... loading sentences\"\n",
    "    brown_sents = brown.sents()\n",
    "    print \"... stemming and lowercasing words\"\n",
    "    brown_sents = [[PorterStemmer().stem(w).lower() for w in sent]\n",
    "                   for sent in brown_sents]\n",
    "    print \"... padding sentences\"\n",
    "    brown_sents = [['<s>']+s+['</s>'] for s in brown_sents]\n",
    "    cut_off = int(len(brown_sents)*.8)\n",
    "    \n",
    "    return ([w for s in brown_sents[:cut_off] for w in s], \\\n",
    "            brown_sents[cut_off:]) # train: a list of words; test: a list of sents."
   ]
  },
  {
   "cell_type": "code",
   "execution_count": 3,
   "metadata": {
    "collapsed": false
   },
   "outputs": [
    {
     "name": "stdout",
     "output_type": "stream",
     "text": [
      "... loading sentences\n",
      "... stemming and lowercasing words\n",
      "... padding sentences\n",
      "<s>\n",
      "CPU times: user 21.3 s, sys: 266 ms, total: 21.5 s\n",
      "Wall time: 21.7 s\n"
     ]
    }
   ],
   "source": [
    "%%time\n",
    "brown_train, brown_test = load_brown()\n",
    "print brown_train[0]"
   ]
  },
  {
   "cell_type": "code",
   "execution_count": 132,
   "metadata": {
    "collapsed": false
   },
   "outputs": [],
   "source": [
    "import numpy as np\n",
    "from nltk.util import ngrams\n",
    "from collections import Counter, defaultdict\n",
    "from functools import partial\n",
    "from __future__ import division"
   ]
  },
  {
   "cell_type": "code",
   "execution_count": 133,
   "metadata": {
    "collapsed": true
   },
   "outputs": [],
   "source": [
    "from sklearn.linear_model import LinearRegression"
   ]
  },
  {
   "cell_type": "code",
   "execution_count": 170,
   "metadata": {
    "collapsed": false
   },
   "outputs": [],
   "source": [
    "class NGramLM:\n",
    "    \n",
    "    def __init__(self, train, test, n=2):\n",
    "        self.train = train # a list of words.\n",
    "        self.test = test # a list of lists of words (i.e. a list of splitted sents).\n",
    "        self.n = n\n",
    "        self.vocab = list(set(train))\n",
    "        test_vocab = {w for s in self.test for w in s}\n",
    "        self.unseen_vocab = test_vocab - test_vocab.intersection(set(self.vocab))\n",
    "        self.N = len(train)\n",
    "        self.V = len(self.vocab)\n",
    "        self.build_n_grams()\n",
    "        \n",
    "    def build_n_grams(self):\n",
    "        n_grams = {} \n",
    "        N_cs, gt_lrs = {}, {}\n",
    "            # N_cs: a dictionary of n-gram frequency of frequency (good-turing).\n",
    "            #  keys: N_cs[2], e.g., for N_c distribution of bigrams.\n",
    "            # gt_lrs: linear regression: log(N_c) = intercept + coef * log(c).\n",
    "            #  handles N_c = 0 cases (Gale & Sampson 1995).\n",
    "            #  keys: gt_lrs[2] returns the function that takes a count c,\n",
    "            #        and returns an estimated N_c.\n",
    "        for i in xrange(1,self.n+1):\n",
    "            n_grams[i] = Counter(ngrams(self.train,i)) \n",
    "            N_c = defaultdict(int) # N_c: keys=freq; values=freq of freq.\n",
    "            for freq in n_grams[i].values():\n",
    "                N_c[freq] += 1\n",
    "            N_cs[i] = N_c\n",
    "            lr = LinearRegression()\n",
    "            lr.fit(np.log(N_c.keys())[:,np.newaxis],np.log(N_c.values())[:,np.newaxis])\n",
    "            gt_lrs[i] = lambda c: np.exp(lr.intercept_[0] + lr.coef_[0][0]*np.log(c))\n",
    "                # log(N_c) = intercept + coef * log(c) =>\n",
    "                # N_c = exp( intercept + coef * log(c) ) (cf. J&M ch4.5:21,eq.4.29).\n",
    "        self.n_grams = n_grams\n",
    "        self.N_cs = N_cs\n",
    "        self.gt_lrs = gt_lrs             \n",
    "        \n",
    "    def adjusted_count(self, ngram, smoothing='laplace'): # ngram: a list of words, e.g. ['my','pencil'].\n",
    "        n = len(ngram)\n",
    "        c = self.n_grams[n][tuple(ngram)]\n",
    "        if smoothing=='laplace':\n",
    "            c_adjusted = self.laplace_adjust(c)\n",
    "        else: \n",
    "            c_adjusted = self.good_turing_adjust(c,n)      \n",
    "        return c_adjusted\n",
    "    \n",
    "    def laplace_adjust(self, c):\n",
    "        return (c+1)*(self.N/(self.N+self.V)) # (cf. J&M ch4.5:17,eq.4.21)\n",
    "    \n",
    "    def get_N_c(self, c, n):\n",
    "        N_c = 0 if c not in self.N_cs[n].keys() else self.N_cs[n][c]\n",
    "            # accessing N_cs[n][c] when it doesn't exist would make a 0 entry at N_cs[n][c],\n",
    "            #  because N_cs[n] is set as a defaultdict(int) for computational convenience.\n",
    "        if N_c==0:\n",
    "            return self.gt_lrs[n](c)\n",
    "        return N_c\n",
    "    \n",
    "    def good_turing_adjust(self, c, n): # n for n in 'n'-gram\n",
    "        k = 5 # Katz correction (Katz 1987)\n",
    "        if c==0: \n",
    "            N_0 = self.get_N_c(1,n) # N_1 for N_0, moved prob. mass = N_1/N (cf. J&M ch4.5:20,eq.4.25) \n",
    "            return N_0 * (1/len(self.unseen_vocab))\n",
    "                # prob(w_unseen) = (N_1/N)*(1/unseen_vocab_size) = (N_1*(1/unseen_vocab_size)) / N,\n",
    "                #  so instead of returning N_1 for count, we multiply it by (1/unseen_vocab_size)\n",
    "                #  as a special case (i.e. 0-count case) treatment.\n",
    "                #  logically this is returning a count, but computationally it adds up.\n",
    "        elif c>=1 and c<=k:\n",
    "            return ( (c+1)*(self.get_N_c(c+1,n)/self.get_N_c(c,n)) / \\\n",
    "                     1 - ( (k+1)*self.get_N_c(k+1,n) ) / self.get_N_c(1,n) ) # (cf. J&M ch4.5:21,eq.4.31)\n",
    "        else:\n",
    "            return (c+1)*(self.get_N_c(c+1,n)/self.get_N_c(c,n))\n",
    "    \n",
    "    def n_gram_probability(self, sent, n=1, smoothing='laplace'):\n",
    "        p = 1\n",
    "        for i in xrange(1,n): # special case handling, e.g, (w_i | w_i-2,w_i-1) = (w_i), etc.\n",
    "            if i==1:\n",
    "                p *= self.adjusted_count(sent[:i],smoothing)/self.N\n",
    "            else:\n",
    "                p *= self.adjusted_count(sent[:i],smoothing)/self.adjusted_count(sent[:i-1],smoothing)\n",
    "        n_grams = list(ngrams(sent,n))\n",
    "        for n_gram in n_grams:\n",
    "            if n==1:\n",
    "                p *= self.adjusted_count(n_gram,smoothing)/self.N\n",
    "            else:\n",
    "                p *= self.adjusted_count(n_gram,smoothing)/self.adjusted_count(n_gram[:-1],smoothing)\n",
    "        return p if p>0 else 1e-323 # if still underflow, return the smallest number possible.\n",
    "    \n",
    "    def perplexity(self, sent, n=1, smoothing='laplace'):\n",
    "        N = len(sent)\n",
    "        p = self.n_gram_probability(sent,n,smoothing)\n",
    "        return np.exp(-(1/N)*np.log(p))\n",
    "            # more likely returning np.power(p,-1/N) exposes us to \n",
    "            #  underflow issue (cf. J&M ch4.8:26,eq.4.45)\n",
    "            # np.exp(-(1/N)*np.log(p)) is LESS LIKELY to have this issue.\n",
    "\n",
    "    def evaluate(self, n=1, smoothing='laplace'):\n",
    "        return np.mean([self.perplexity(sent,n,smoothing) for sent in self.test])\n",
    "\n",
    "# smoothing variable passing pipeline:\n",
    "# \n",
    "# perplexity() --> n_gram_probability() --> adjusted_count() \n",
    "#     |\\        \n",
    "#     |     \n",
    "# evaluate() "
   ]
  },
  {
   "cell_type": "code",
   "execution_count": 171,
   "metadata": {
    "collapsed": false
   },
   "outputs": [
    {
     "name": "stdout",
     "output_type": "stream",
     "text": [
      "CPU times: user 7.78 s, sys: 151 ms, total: 7.93 s\n",
      "Wall time: 7.99 s\n"
     ]
    }
   ],
   "source": [
    "%%time\n",
    "nglm = NGramLM(brown_train,brown_test,n=6)"
   ]
  },
  {
   "cell_type": "markdown",
   "metadata": {},
   "source": [
    "##### GT-smoothing has lower average perplexity over ngrams than Laplace-smoothing\n",
    "**NB: unigram doesn't care about dependency at all, so its perplexity is not a good evaluator for comparing language models.**\n",
    "\n",
    "**NB: GT-smoothing here doesn't have Linear Interpolation accompany it, so perplexity increases as the size of ngram increases. However the point of this demo is only to show that GT-smoothing has lower avg. perplexity.**"
   ]
  },
  {
   "cell_type": "code",
   "execution_count": 173,
   "metadata": {
    "collapsed": false
   },
   "outputs": [
    {
     "name": "stdout",
     "output_type": "stream",
     "text": [
      "Laplace Smoothing:\n",
      "... 2-gram Average Perplexity: 61.502261\n",
      "... 3-gram Average Perplexity: 9.536523\n",
      "... 4-gram Average Perplexity: 4.197516\n",
      "... 5-gram Average Perplexity: 3.661287\n",
      "... 6-gram Average Perplexity: 3.602977\n",
      "CPU times: user 3.41 s, sys: 72.2 ms, total: 3.48 s\n",
      "Wall time: 3.43 s\n"
     ]
    }
   ],
   "source": [
    "%%time\n",
    "print 'Laplace Smoothing:'\n",
    "for i in xrange(2,6+1):\n",
    "    print '... %d-gram Average Perplexity: %.6f' % (i,nglm.evaluate(n=i,smoothing='laplace'))"
   ]
  },
  {
   "cell_type": "code",
   "execution_count": 174,
   "metadata": {
    "collapsed": false
   },
   "outputs": [
    {
     "name": "stdout",
     "output_type": "stream",
     "text": [
      "Good-Turing Smoothing:\n",
      "... 2-gram Average Perplexity: 1.138796\n",
      "... 3-gram Average Perplexity: 1.716055\n",
      "... 4-gram Average Perplexity: 1.499161\n",
      "... 5-gram Average Perplexity: 1.884957\n",
      "... 6-gram Average Perplexity: 2.056255\n",
      "CPU times: user 24.7 s, sys: 812 ms, total: 25.5 s\n",
      "Wall time: 24.9 s\n"
     ]
    }
   ],
   "source": [
    "%%time\n",
    "print 'Good-Turing Smoothing:'\n",
    "for i in xrange(2,6+1):\n",
    "    print '... %d-gram Average Perplexity: %.6f' % (i,nglm.evaluate(n=i,smoothing='good-turing'))"
   ]
  },
  {
   "cell_type": "markdown",
   "metadata": {},
   "source": [
    "##### Demo: How GT-smoothing with Linear Regression works"
   ]
  },
  {
   "cell_type": "code",
   "execution_count": 144,
   "metadata": {
    "collapsed": false
   },
   "outputs": [
    {
     "name": "stdout",
     "output_type": "stream",
     "text": [
      "defaultdict(<type 'int'>, {1: 1035401, 2: 9414, 3: 1720, 4: 647, 5: 347, 6: 180, 7: 154, 8: 69, 9: 38, 10: 35, 11: 34, 12: 15, 13: 26, 14: 23, 15: 10, 16: 17, 17: 6, 18: 8, 19: 12, 20: 7, 21: 2, 22: 4, 23: 2, 24: 3, 25: 3, 26: 2, 27: 2, 29: 3, 30: 2, 31: 1, 32: 1, 33: 1, 34: 5, 35: 1, 36: 3, 37: 3, 38: 2, 40: 2, 43: 1, 44: 2, 49: 3, 51: 1, 52: 1, 53: 2, 55: 1, 63: 1, 164: 1})\n"
     ]
    }
   ],
   "source": [
    "print nglm.N_cs[6] # key=freq (for 6-grams); value=freq of freq."
   ]
  },
  {
   "cell_type": "code",
   "execution_count": 145,
   "metadata": {
    "collapsed": false
   },
   "outputs": [
    {
     "name": "stdout",
     "output_type": "stream",
     "text": [
      "[1, 2, 3, 4, 5, 6, 7, 8, 9, 10, 11, 12, 13, 14, 15, 16, 17, 18, 19, 20, 21, 22, 23, 24, 25, 26, 27, 29, 30, 31, 32, 33, 34, 35, 36, 37, 38, 40, 43, 44, 49, 51, 52, 53, 55, 63, 164]\n",
      "[1035401, 9414, 1720, 647, 347, 180, 154, 69, 38, 35, 34, 15, 26, 23, 10, 17, 6, 8, 12, 7, 2, 4, 2, 3, 3, 2, 2, 3, 2, 1, 1, 1, 5, 1, 3, 3, 2, 2, 1, 2, 3, 1, 1, 2, 1, 1, 1]\n"
     ]
    }
   ],
   "source": [
    "c_vec = nglm.N_cs[6].keys() \n",
    "N_c_vec = nglm.N_cs[6].values() \n",
    "print c_vec\n",
    "print N_c_vec"
   ]
  },
  {
   "cell_type": "code",
   "execution_count": 146,
   "metadata": {
    "collapsed": true
   },
   "outputs": [],
   "source": [
    "import matplotlib.pyplot as plt\n",
    "%matplotlib inline"
   ]
  },
  {
   "cell_type": "code",
   "execution_count": 147,
   "metadata": {
    "collapsed": false
   },
   "outputs": [
    {
     "data": {
      "text/plain": [
       "<matplotlib.text.Text at 0x119636950>"
      ]
     },
     "execution_count": 147,
     "metadata": {},
     "output_type": "execute_result"
    },
    {
     "data": {
      "image/png": "[encoded data removed]",
      "text/plain": [
       "<matplotlib.figure.Figure at 0x1148e8e90>"
      ]
     },
     "metadata": {},
     "output_type": "display_data"
    }
   ],
   "source": [
    "plt.scatter(c_vec,N_c_vec)\n",
    "plt.title('N_c ~ c: Direct Linear Relation')\n",
    "plt.xlabel('c')\n",
    "plt.ylabel('N_c')"
   ]
  },
  {
   "cell_type": "code",
   "execution_count": 150,
   "metadata": {
    "collapsed": false
   },
   "outputs": [
    {
     "data": {
      "text/plain": [
       "LinearRegression(copy_X=True, fit_intercept=True, n_jobs=1, normalize=False)"
      ]
     },
     "execution_count": 150,
     "metadata": {},
     "output_type": "execute_result"
    }
   ],
   "source": [
    "log_c_vec, log_N_c_vec = np.log(c_vec), np.log(N_c_vec)\n",
    "lr = LinearRegression()\n",
    "lr.fit(log_c_vec[:,np.newaxis],log_N_c_vec[:,np.newaxis])"
   ]
  },
  {
   "cell_type": "code",
   "execution_count": 156,
   "metadata": {
    "collapsed": false
   },
   "outputs": [
    {
     "data": {
      "text/plain": [
       "<matplotlib.text.Text at 0x114c14350>"
      ]
     },
     "execution_count": 156,
     "metadata": {},
     "output_type": "execute_result"
    },
    {
     "data": {
      "image/png": "[encoded data removed]",
      "text/plain": [
       "<matplotlib.figure.Figure at 0x114c3ded0>"
      ]
     },
     "metadata": {},
     "output_type": "display_data"
    }
   ],
   "source": [
    "plt.scatter(log_c_vec,log_N_c_vec)\n",
    "plt.plot(log_c_vec, map(lambda log_c:lr.intercept_[0]+lr.coef_[0][0]*log_c, log_c_vec))\n",
    "plt.title('log(N_c) ~ log(c): Log-Transformed Linear Relation')\n",
    "plt.xlabel('log(c)')\n",
    "plt.ylabel('log(N_c)')"
   ]
  },
  {
   "cell_type": "code",
   "execution_count": null,
   "metadata": {
    "collapsed": true
   },
   "outputs": [],
   "source": []
  },
  {
   "cell_type": "code",
   "execution_count": null,
   "metadata": {
    "collapsed": true
   },
   "outputs": [],
   "source": []
  },
  {
   "cell_type": "code",
   "execution_count": null,
   "metadata": {
    "collapsed": true
   },
   "outputs": [],
   "source": []
  },
  {
   "cell_type": "code",
   "execution_count": null,
   "metadata": {
    "collapsed": true
   },
   "outputs": [],
   "source": []
  },
  {
   "cell_type": "code",
   "execution_count": null,
   "metadata": {
    "collapsed": true
   },
   "outputs": [],
   "source": []
  },
  {
   "cell_type": "code",
   "execution_count": null,
   "metadata": {
    "collapsed": true
   },
   "outputs": [],
   "source": []
  },
  {
   "cell_type": "code",
   "execution_count": null,
   "metadata": {
    "collapsed": true
   },
   "outputs": [],
   "source": []
  },
  {
   "cell_type": "code",
   "execution_count": null,
   "metadata": {
    "collapsed": true
   },
   "outputs": [],
   "source": []
  },
  {
   "cell_type": "code",
   "execution_count": null,
   "metadata": {
    "collapsed": true
   },
   "outputs": [],
   "source": []
  },
  {
   "cell_type": "code",
   "execution_count": null,
   "metadata": {
    "collapsed": true
   },
   "outputs": [],
   "source": []
  },
  {
   "cell_type": "code",
   "execution_count": null,
   "metadata": {
    "collapsed": true
   },
   "outputs": [],
   "source": []
  },
  {
   "cell_type": "code",
   "execution_count": null,
   "metadata": {
    "collapsed": true
   },
   "outputs": [],
   "source": []
  },
  {
   "cell_type": "code",
   "execution_count": null,
   "metadata": {
    "collapsed": true
   },
   "outputs": [],
   "source": []
  },
  {
   "cell_type": "code",
   "execution_count": null,
   "metadata": {
    "collapsed": true
   },
   "outputs": [],
   "source": []
  },
  {
   "cell_type": "code",
   "execution_count": null,
   "metadata": {
    "collapsed": true
   },
   "outputs": [],
   "source": []
  }
 ],
 "metadata": {
  "kernelspec": {
   "display_name": "Python 2",
   "language": "python",
   "name": "python2"
  },
  "language_info": {
   "codemirror_mode": {
    "name": "ipython",
    "version": 2
   },
   "file_extension": ".py",
   "mimetype": "text/x-python",
   "name": "python",
   "nbconvert_exporter": "python",
   "pygments_lexer": "ipython2",
   "version": "2.7.11"
  }
 },
 "nbformat": 4,
 "nbformat_minor": 0
}
